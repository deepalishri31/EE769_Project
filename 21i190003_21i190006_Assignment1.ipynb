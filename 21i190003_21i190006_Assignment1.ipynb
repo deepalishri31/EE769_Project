{
  "cells": [
    {
      "cell_type": "markdown",
      "metadata": {
        "id": "XCn4CaVipCiB"
      },
      "source": [
        "#**EE769 Introduction to Machine Learning**\n",
        "\n",
        "#Assignment 1: Gradient Descent, Linear Regression, and Regularization\n",
        "\n",
        "\n",
        "**Template and Instructions**\n",
        "\n",
        "\n",
        "\n",
        "1. Up to two people can team up, but only one should submit, and both should understand the entire code.\n",
        "2. Every line of code should end in a comment explaining the line\n",
        "3. It is recommended to solve the assignment in Google Colab.\n",
        "Write your roll no.s separated by commas here: \n",
        "4. Write your names here: \n",
        "5. There are two parts to the assignment. In the Part 1, the code format has to be strictly followed to enable auto-grading. In the second part, you can be creative.\n",
        "6. **You can discuss with other groups or refer to the internet without being penalized, but you cannot copy their code and modify it. Write every line of code and comment on your own.**"
      ]
    },
    {
      "cell_type": "markdown",
      "metadata": {
        "id": "_C8Kd4YxpCiG"
      },
      "source": [
        "#**Part 1 begins ...**\n",
        "**Instructions to be strictly followed:**\n",
        "\n",
        "1. Do not add any code cells or markdown cells until the end of this part. Especially, do not change the blocks that say \"TEST CASES, DO NOT CHANGE\"\n",
        "2. In all other cells only add code where it says \"CODE HERE\".\n",
        "3. If you encounter any raise NotImplementedError() calls you may comment them out.\n",
        "\n",
        "We cannot ensure correct grading if you change anything else, and you may be penalised for not following these instructions."
      ]
    },
    {
      "cell_type": "markdown",
      "metadata": {
        "id": "eQNUDgT3pCiG"
      },
      "source": [
        "## Import Statements"
      ]
    },
    {
      "cell_type": "code",
      "execution_count": 1,
      "metadata": {
        "id": "HPckPN_2pCiH"
      },
      "outputs": [],
      "source": [
        "import numpy as np\n",
        "import pandas as pd\n",
        "from matplotlib import pyplot as plt\n"
      ]
    },
    {
      "cell_type": "markdown",
      "metadata": {
        "id": "8Ut4PIHrpCiI"
      },
      "source": [
        "## Normalize function \n",
        "\n"
      ]
    },
    {
      "cell_type": "code",
      "execution_count": 2,
      "metadata": {
        "id": "YNQO9T1jpCiJ"
      },
      "outputs": [],
      "source": [
        "def Normalize(X): # Output should be a normalized data matrix of the same dimension\n",
        "    '''\n",
        "    Normalize all columns of X using mean and standard deviation\n",
        "    '''\n",
        "    X = X.astype(np.float) # converting the array into a float array\n",
        "    if len(X.shape)==2:\n",
        "      k = X.shape[1] #num of columns in the matrix\n",
        "      n = X.shape[0] #num of rows in the matrix\n",
        "      for i in range(k):\n",
        "        m = X[:,i].mean()  #calculating the mean for the column\n",
        "        s = X[:,i].std()  #evaluating the standard deviation for the column\n",
        "        for j in range(n):\n",
        "          X[j][i]= (X[j][i]-m)/s  #updating the element by using mean and standard deviation\n",
        "      return X\n",
        "    else: #For one dimensional arrays\n",
        "      X =(X-X.mean())/X.std() \n",
        "      return X\n",
        "    #raise NotImplementedError()"
      ]
    },
    {
      "cell_type": "code",
      "execution_count": 3,
      "metadata": {
        "id": "jL631zXypCiJ"
      },
      "outputs": [],
      "source": [
        "'''\n",
        "TEST CASES, DO NOT CHANGE\n",
        "'''\n",
        "''' case 1 - 1 dimensional array'''\n",
        "#X=np.array([[1,2,3],[3,4,5],[7,8,9]])\n",
        "X1=np.array([1,2,3])\n",
        "np.testing.assert_array_almost_equal(Normalize(X1),np.array([-1.224,  0.      ,  1.224]),decimal=3)\n",
        "''' case 2 - 2 dimensional array'''\n",
        "X2=np.array([[4,7,6],[3,8,9],[5,11,10]])\n",
        "np.testing.assert_array_almost_equal(Normalize(X2),np.array([[ 0.  , -0.980581, -1.372813],[-1.224745, -0.392232,  0.392232],[ 1.224745,  1.372813,  0.980581]]))\n",
        "''' case 3 - 1 dimensional array with float'''\n",
        "X3=np.array([5.5,6.7,3.2,6.7])\n",
        "np.testing.assert_array_almost_equal(Normalize(X3),np.array([-0.017,  0.822, -1.627,  0.822]),decimal=3)"
      ]
    },
    {
      "cell_type": "markdown",
      "metadata": {
        "id": "GP26Wiv4pCiL"
      },
      "source": [
        "## Prediction Function\n",
        "\n",
        "Given X and w, compute the predicted output. Do not forget to add 1's in X"
      ]
    },
    {
      "cell_type": "code",
      "execution_count": 4,
      "metadata": {
        "id": "Cny2G1l5pCiM"
      },
      "outputs": [],
      "source": [
        "def Prediction (X, w): # Output should be a prediction vector y\n",
        "    '''\n",
        "    Compute Prediction given an input datamatrix X and weight vecor w. Output y = [X 1]w where 1 is a vector of all 1s \n",
        "    '''\n",
        "    n = X.shape[0] #Number of rows in the numpy array X\n",
        "    list_1 = np.array([[1] for i in range(n)]) #Creating an array of lists for adding to the last column\n",
        "    updated_X = np.append(X,list_1,axis=1) #Appending the above list into the given array as column\n",
        "    Y = np.matmul(updated_X,w) #As per the given information(formula)\n",
        "    return Y\n",
        "    #raise NotImplementedError()\n"
      ]
    },
    {
      "cell_type": "code",
      "execution_count": 5,
      "metadata": {
        "id": "WoeyOXtlpCiN"
      },
      "outputs": [],
      "source": [
        "'''\n",
        "TEST CASES, DO NOT CHANGE\n",
        "'''\n",
        "''' case 1 - Known input output matrix and weights 1'''\n",
        "X1 = np.array([[3,2],[1,1]])\n",
        "w1 = np.array([2,1,1]) \n",
        "np.testing.assert_array_equal(Prediction(X1,w1),np.array([9,4]))\n"
      ]
    },
    {
      "cell_type": "markdown",
      "metadata": {
        "id": "VeRxFNh1pCiN"
      },
      "source": [
        "## Loss Functions\n",
        "\n",
        "Code the four  loss functions:\n",
        "\n",
        "1. MSE loss is only for the error\n",
        "2. MAE loss is only for the error\n",
        "3. L2 loss is for MSE and L2 regularization, and can call MSE loss\n",
        "4. L1 loss is for MSE and L1 regularization, and can call MSE loss"
      ]
    },
    {
      "cell_type": "code",
      "execution_count": 6,
      "metadata": {
        "id": "nN4vGv9npCiN"
      },
      "outputs": [],
      "source": [
        "def MSE_Loss (X, t, w, lamda =0): # Ouput should be a single number\n",
        "    '''\n",
        "    lamda=0 is a default argument to prevent errors if you pass lamda to a function that doesn't need it by mistake. \n",
        "    This allows us to call all loss functions with the same input format.\n",
        "    \n",
        "    You are encouraged read about default arguments by yourself online if you're not familiar.\n",
        "    '''\n",
        "    p = Prediction(X,w) #We will need the predicted values for calculating the mse loss\n",
        "    n = len(t) #length of the target values array\n",
        "    mse_loss = np.sum(np.square(p-t))/n #Calculating the mean squared error using the numpy functions on arrays\n",
        "    return mse_loss\n",
        "    #raise NotImplementedError()"
      ]
    },
    {
      "cell_type": "code",
      "execution_count": 7,
      "metadata": {
        "id": "QSyvmDHgpCiO"
      },
      "outputs": [],
      "source": [
        "'''\n",
        "TEST CASES, DO NOT CHANGE\n",
        "'''\n",
        "''' case 1 '''\n",
        "X=np.array([[3,6,5],[4.5,6.6,6]])\n",
        "t=np.array([4,5.5])\n",
        "w=np.array([2,-1,0.5,1])\n",
        "np.testing.assert_almost_equal(MSE_Loss(X,t,w),0.53,decimal=3)\n"
      ]
    },
    {
      "cell_type": "code",
      "execution_count": 8,
      "metadata": {
        "id": "42uOnJSspCiO"
      },
      "outputs": [],
      "source": [
        "def MAE_Loss (X, t, w, lamda = 0): # Output should be a single number\n",
        "  p = Prediction(X,w) #We will need the predicted values for calculating the mae loss\n",
        "  n = X.shape[0] #Number of rows in matrix X.\n",
        "  mae_loss = (1/n)*sum(abs(p[i]-t[i]) for i in range(n)) #Calculating the mean absolute error using the python inbuilt sum function\n",
        "  return mae_loss\n",
        "  #raise NotImplementedError()"
      ]
    },
    {
      "cell_type": "code",
      "execution_count": 9,
      "metadata": {
        "id": "6_Lhups_pCiP"
      },
      "outputs": [],
      "source": [
        "'''\n",
        "TEST CASES, DO NOT CHANGE\n",
        "'''\n",
        "''' case 1 '''\n",
        "X=np.array([[3,6,5],[4.5,6.6,6]])\n",
        "t=np.array([4,5.5])\n",
        "w=np.array([2,-1,0.5,1])\n",
        "np.testing.assert_almost_equal(MAE_Loss(X,t,w),0.700,decimal=3)\n"
      ]
    },
    {
      "cell_type": "code",
      "execution_count": 10,
      "metadata": {
        "id": "tGa77IylpCiP"
      },
      "outputs": [],
      "source": [
        "def L2_Loss (X, t, w, lamda): # Output should be a single number based on L2-norm (with sqrt)\n",
        "    ''' Need to specify what inputs are'''\n",
        "    n = X.shape[0] #Number of rows in the data matrix X\n",
        "    k = w.shape[0] #Length of the given array of weights\n",
        "    mse_loss = MSE_Loss(X, t, w, lamda =0) #Calculating mse loss using previously defined functiin for using directly in the L2 loss\n",
        "    w[k-1]=0 #Putting the last term of the weight array equal to zero, as this element is the coefficient for biasness\n",
        "    bias_l2 = lamda*(np.sqrt(sum(w[i]**2 for i in range(k)))) #We have take the norm for weights excluding the last element of the w vector.\n",
        "    return mse_loss+bias_l2 #Using the formula\n",
        "    #raise NotImplementedError()"
      ]
    },
    {
      "cell_type": "code",
      "execution_count": 11,
      "metadata": {
        "id": "8e6REf8upCiQ"
      },
      "outputs": [],
      "source": [
        "'''\n",
        "TEST CASES, DO NOT CHANGE\n",
        "'''\n",
        "''' case 1 '''\n",
        "X=np.array([[3,6,5],[4.5,6.6,6]])\n",
        "t=np.array([4,5.5])\n",
        "w=np.array([2,-1,0.5,1])\n",
        "np.testing.assert_almost_equal(L2_Loss(X,t,w,0.5),1.675,decimal=3)\n"
      ]
    },
    {
      "cell_type": "code",
      "execution_count": 12,
      "metadata": {
        "id": "yzzp2cUnpCiQ"
      },
      "outputs": [],
      "source": [
        "def L1_Loss (X, t, w, lamda): # Output should be a single number\n",
        "    p = Prediction(X,w) #Calculating the predicted array for using in the further calculation directly.\n",
        "    n = len(t) #Length of the target variables array\n",
        "    k = w.shape[0] #Length of the weight array\n",
        "    w[k-1] = 0 #For this last element denotes bias, hence taking it as zero.\n",
        "    mse_loss = np.sum(np.square(p-t))/n #Using the numpy functions for calculating the mean squares error using formula\n",
        "    bias_l1 = lamda*np.linalg.norm(w,1) #Calculating the L1 norm of w for finding the L1 biasness\n",
        "    return mse_loss+bias_l1 #Using the formula\n",
        "    #raise NotImplementedError()"
      ]
    },
    {
      "cell_type": "code",
      "execution_count": 13,
      "metadata": {
        "id": "r2r-2dLCpCiQ"
      },
      "outputs": [],
      "source": [
        "'''\n",
        "TEST CASES, DO NOT CHANGE\n",
        "'''\n",
        "''' case 1 '''\n",
        "X=np.array([[3,6,5],[4.5,6.6,6]])\n",
        "t=np.array([4,5.5])\n",
        "w=np.array([2,-1,0.5,1])\n",
        "np.testing.assert_almost_equal(L1_Loss(X,t,w,0.5),2.280,decimal=3)\n"
      ]
    },
    {
      "cell_type": "code",
      "execution_count": 14,
      "metadata": {
        "id": "bAWEV2oPpCiQ"
      },
      "outputs": [],
      "source": [
        "def NRMSE_Metric (X, t, w, lamda=0): # Output should be a single number. RMSE/std_dev(t)\n",
        "    n = X.shape[0] #Number of rows in X data matrix\n",
        "    k = w.shape[0] #Number of elements in weight array\n",
        "    rmse = np.sqrt(MSE_Loss(X, t, w, lamda =0)) #Calculating the root mean squared error using the pre defined function\n",
        "    c = np.std(t) #Standard deviation of the target values\n",
        "    nrmse = rmse/c #Using the NRMSE formula\n",
        "    return nrmse\n",
        "    #raise NotImplementedError()"
      ]
    },
    {
      "cell_type": "code",
      "execution_count": 15,
      "metadata": {
        "id": "lce087c1pCiR"
      },
      "outputs": [],
      "source": [
        "'''\n",
        "TEST CASES, DO NOT CHANGE\n",
        "'''\n",
        "''' Test case 1 '''\n",
        "X=np.array([[3,6,5],[4.5,6.6,6]])\n",
        "t=np.array([4,5.5])\n",
        "w=np.array([2,-1,0.5,1])\n",
        "np.testing.assert_almost_equal(NRMSE_Metric(X,t,w,0.5),0.970,decimal=3)\n"
      ]
    },
    {
      "cell_type": "markdown",
      "metadata": {
        "id": "H4noV4CHpCiR"
      },
      "source": [
        "## Gradient function\n",
        "Each Loss function will have its own gradient function:\n",
        "\n",
        "1. MSE gradient is only for the error\n",
        "2. MAE gradient is only for the error\n",
        "3. L2 gradient is for MSE and L2 regularization, and can call MSE gradient\n",
        "4. L1 gradient is for MSE and L1 regularization, and can call MSE gradient"
      ]
    },
    {
      "cell_type": "code",
      "execution_count": 16,
      "metadata": {
        "id": "uP1NZdlupCiR"
      },
      "outputs": [],
      "source": [
        "def MSE_Gradient (X, t, w, lamda=0): # Output should have the same size as w\n",
        "    p = Prediction(X,w) #Calculating predicted values for using in further calculation\n",
        "    n = X.shape[0] #Number of rows in the numpy array X\n",
        "    list_1 = np.array([[1] for i in range(n)]) #Creating an array of lists containing element '1'\n",
        "    updated_X = np.append(X,list_1,axis=1) #Adding a column with entries '1' at the end in X\n",
        "    k = p.shape[0] #Number of predicted vslues\n",
        "    m = w.shape[0] #Number of weight values\n",
        "    #mse_grad =np.array([((2/n)*sum((p[i]-t[i])*updated_X[i][j] for i in range(k))) for j in range(m)]) #Extended form for the gradient(calculated by hand)\n",
        "    mse_grad = (2/k)*(np.dot((p-t),updated_X)) #Calculating gradient using the numpy functions and by hand evaluation\n",
        "    return mse_grad \n",
        "    #raise NotImplementedError()"
      ]
    },
    {
      "cell_type": "code",
      "execution_count": 17,
      "metadata": {
        "id": "guZS5KR7pCiR"
      },
      "outputs": [],
      "source": [
        "'''\n",
        "TEST CASES, DO NOT CHANGE\n",
        "'''\n",
        "''' case 1 '''\n",
        "X=np.array([[3,6,5],[4.5,6.6,6]])\n",
        "t=np.array([4,5.5])\n",
        "w=np.array([2,-1,0.5,1])\n",
        "np.testing.assert_array_almost_equal(MSE_Gradient(X,t,w),np.array([2.55, 2.94, 2.9 , 0.4 ]),decimal=3)\n"
      ]
    },
    {
      "cell_type": "code",
      "execution_count": 18,
      "metadata": {
        "id": "HIG6-IdIpCiS"
      },
      "outputs": [],
      "source": [
        "def MAE_Gradient (X, t, w, lamda=0): # Output should have the same size as w\n",
        "    p = Prediction(X,w) #Calculating predicted values for using in further calculation\n",
        "    n = X.shape[0] #Number of rows in the numpy array X\n",
        "    list_1 = np.array([[1] for i in range(n)])\n",
        "    updated_X = np.append(X,list_1,axis=1) #Adding a column with entries '1' in matrix\n",
        "    k = p.shape[0] #Number of predicted values\n",
        "    m = w.shape[0] #Number of values in weight array\n",
        "    mae_grad =np.array([((1/n)*sum((1*updated_X[i][j]) if p[i]>t[i] else (-1*updated_X[i][j]) for i in range(k))) for j in range(m)]) #calculating the gradient using the differentiation (expression evaluated manually)\n",
        "    return mae_grad\n",
        "    #raise NotImplementedError()"
      ]
    },
    {
      "cell_type": "code",
      "execution_count": 19,
      "metadata": {
        "id": "SmlIWUJZpCiS"
      },
      "outputs": [],
      "source": [
        "'''\n",
        "TEST CASES, DO NOT CHANGE\n",
        "'''\n",
        "''' case 1 '''\n",
        "X=np.array([[3,6,5],[4.5,6.6,6]])\n",
        "t=np.array([4,5.5])\n",
        "w=np.array([2,-1,0.5,1])\n",
        "np.testing.assert_array_almost_equal(MAE_Gradient(X,t,w),np.array([0.75,  0.3 ,  0.5 , 0.]),decimal=3)\n"
      ]
    },
    {
      "cell_type": "code",
      "execution_count": 20,
      "metadata": {
        "id": "8zRQeCu4pCiS"
      },
      "outputs": [],
      "source": [
        "def L2_Gradient (X, t, w, lamda): # Output should have the same size as w\n",
        "    mse_grad = MSE_Gradient(X, t, w, lamda=0) #Calculating mse gradient for using in further calculation\n",
        "    n = w.shape[0] #Number of values in weight array\n",
        "    w[len(w)-1]=0 #Taking the bias term as zero.\n",
        "    l2_norm_grad = np.array([(lamda*w[j]/(np.linalg.norm(w,2))) for j in range(n)]) #Gradient of the second part of L2 loss function i.e. gradient of lamda*L2_Norm\n",
        "    L2_Grad = mse_grad+l2_norm_grad #Calculating the total gradient\n",
        "    return L2_Grad\n",
        "    #raise NotImplementedError()"
      ]
    },
    {
      "cell_type": "code",
      "execution_count": 21,
      "metadata": {
        "id": "SPeqmLRApCiS"
      },
      "outputs": [],
      "source": [
        "'''\n",
        "TEST CASES, DO NOT CHANGE\n",
        "'''\n",
        "''' case 1 '''\n",
        "X=np.array([[3,6,5],[4.5,6.6,6]])\n",
        "t=np.array([4,5.5])\n",
        "w=np.array([2,-1,0.5,1])\n",
        "np.testing.assert_array_almost_equal(L2_Gradient(X,t,w,0.5),np.array([2.986, 2.721, 3.009 , 0.4 ]),decimal=3)\n"
      ]
    },
    {
      "cell_type": "code",
      "execution_count": 22,
      "metadata": {
        "id": "Kvb1FnJgpCiS"
      },
      "outputs": [],
      "source": [
        "def L1_Gradient (X, t, w, lamda): # Output should have the same size as w\n",
        "    mse_grad = MSE_Gradient (X, t, w, lamda=0) #Calculating mse gradient for using in further calculation\n",
        "    k = w.shape[0]  ##Number of values in weight array\n",
        "    w[len(w)-1] = 0 #Taking the bias term as zero.\n",
        "    l1_norm_grad = [lamda if w[j]>0 else -1*lamda for j in range(k-1)] #Gradient of the second part of L1 loss function i.e. gradient of lamda*L1_Norm\n",
        "    l1_norm_grad.append(0) # For adding the term zero for bias.\n",
        "    l1_norm_grad = np.array(l1_norm_grad) #Converting the list into array\n",
        "    L1_grad = mse_grad + l1_norm_grad #Calculating the final gradient\n",
        "    return L1_grad\n",
        "    #raise NotImplementedError()"
      ]
    },
    {
      "cell_type": "code",
      "execution_count": 23,
      "metadata": {
        "id": "_DJA33pKpCiS"
      },
      "outputs": [],
      "source": [
        "'''\n",
        "TEST CASES, DO NOT CHANGE\n",
        "'''\n",
        "''' case 1 '''\n",
        "X=np.array([[3,6,5],[4.5,6.6,6]])\n",
        "t=np.array([4,5.5])\n",
        "w=np.array([2,-1,0.5,1])\n",
        "np.testing.assert_array_almost_equal(L1_Gradient(X,t,w,0.5),np.array([3.05, 2.44, 3.4 , 0.4 ]),decimal=3)\n"
      ]
    },
    {
      "cell_type": "markdown",
      "metadata": {
        "id": "HKIRqJAEpCiS"
      },
      "source": [
        "## Gradient Descent Function\n"
      ]
    },
    {
      "cell_type": "code",
      "execution_count": 24,
      "metadata": {
        "id": "MrdDyhxupCiS"
      },
      "outputs": [],
      "source": [
        "def Gradient_Descent (X, X_val, t, t_val, w, lamda, max_iter, epsilon, lr, lossfunc, gradfunc): # See output format in 'return' statement\n",
        "    m = 0 #For calculating the num of iterations\n",
        "    while m < max_iter and np.linalg.norm(gradfunc(X,t,w,lamda))>epsilon : #Conditions for further iterations\n",
        "      w = w-lr*gradfunc(X,t,w,lamda) #Weighjt updation formula from gradient descent function\n",
        "      m+=1 #Updating the num of iteration value\n",
        "    w_final = w #Taking the final weight array \n",
        "    train_loss_final = lossfunc(X,t,w,lamda) #Loss for training data\n",
        "    validation_loss_final = lossfunc(X_val,t_val,w,lamda) #Loss for validation data\n",
        "    validation_NRMSE = NRMSE_Metric (X_val, t_val, w, lamda) #Normalized roor mean square error for validation data\n",
        "    #raise NotImplementedError()\n",
        "    return w_final, train_loss_final, validation_loss_final, validation_NRMSE #You should return variables structured like this.\n",
        "    "
      ]
    },
    {
      "cell_type": "code",
      "execution_count": 25,
      "metadata": {
        "id": "7zserPhYpCiT"
      },
      "outputs": [],
      "source": [
        "'''\n",
        "TEST CASES, DO NOT CHANGE\n",
        "'''\n",
        "X=np.array([[23,24],[1,2]])\n",
        "t=np.array([4,5])\n",
        "X_val=np.array([[3,4],[5,6]])\n",
        "t_val=np.array([3,4])\n",
        "w=np.array([3,2,1])\n",
        "results =Gradient_Descent (X, X_val, t, t_val, w, 0.1, 100, 1e-10, 1e-5, L2_Loss,L2_Gradient)\n",
        "np.testing.assert_allclose([results[1]],[697.919],rtol =0.05)\n",
        "np.testing.assert_allclose([results[2]],[20],atol=5) # we expect around 17.5  but some students got 24 which we will also accept\n",
        "#Instructor Values of results[1] and results [2] are 697.919 and 17.512 respectively"
      ]
    },
    {
      "cell_type": "markdown",
      "metadata": {
        "id": "HxU49sDwpCiT"
      },
      "source": [
        "## Pseudo Inverse Method\n",
        "\n",
        "You have to implement a slightly more advanced version, with L2 penalty:\n",
        "\n",
        "w = (X' X + lambda I)^(-1) X' t.\n",
        "\n",
        "See, for example: Section 2 of https://web.mit.edu/zoya/www/linearRegression.pdf\n",
        "\n",
        "Here, the column of 1's in assumed to be included in X"
      ]
    },
    {
      "cell_type": "code",
      "execution_count": 26,
      "metadata": {
        "id": "HQKZMm2ypCiT"
      },
      "outputs": [],
      "source": [
        "def Pseudo_Inverse (X, t, lamda): # Output should be weight vector\n",
        "    n = X.shape[0] #Number of rows in the numpy array X\n",
        "    list_1 = np.array([[1] for i in range(n)])\n",
        "    X = np.append(X,list_1,axis=1) #column of 1's to be included into X\n",
        "    I = np.identity(X.shape[1],dtype = \"int\") #Taking identity matrix\n",
        "    M = (np.matmul(X.T,X)+lamda*I) #An expression from the formula\n",
        "    w = np.linalg.inv(M)@np.transpose(X)@t #Using the formula given in the above cell.\n",
        "    return w\n",
        "    #raise NotImplementedError()"
      ]
    },
    {
      "cell_type": "code",
      "execution_count": 27,
      "metadata": {
        "id": "pVY4ZC1IpCiT"
      },
      "outputs": [],
      "source": [
        "'''\n",
        "TEST CASES, DO NOT CHANGE\n",
        "'''\n",
        "''' case 1 - other data'''\n",
        "X=np.array([[3,6,5],[4.5,6.6,6]])\n",
        "t=np.array([4,5.5])\n",
        "np.testing.assert_array_almost_equal(Pseudo_Inverse(X,t,0.5),np.array([ 0.491,  0.183,  0.319, -0.002]),decimal=3)"
      ]
    },
    {
      "cell_type": "markdown",
      "metadata": {
        "id": "xALR42kBpCiU"
      },
      "source": [
        "#**Part 2 begins ...**\n",
        "\n",
        "**Instructions to be loosely followed (except number 8):**\n",
        "\n",
        "1. Add more code and text cells between this and the last cell.\n",
        "2. Read training data from: https://www.ee.iitb.ac.in/~asethi/Dump/TempTrain.csv only. Do not use a local copy of the dataset.\n",
        "3. Find the best lamda for **MSE+lamda*L2(w)** loss function. Plot training and validation RMSE vs. 1/lamda (1/lamda represents model complexity). Print weights, validation RMSE, validation NRMSE for the best lamda.\n",
        "4. Find the best lamda for **MSE+lamda*L1(w)** loss function. Plot training and validation RMSE vs. 1/lamda (1/lamda represents model complexity). Print weights, validation RMSE, validation NRMSE for the best lamda.\n",
        "5. Find the best lamda for the **pseudo-inv method**. Plot training and validation RMSE vs. 1/lamda (1/lamda represents model complexity). Print weights, validation RMSE, validation NRMSE for the best lamda.\n",
        "6. Write your observations and conclusions.\n",
        "7. Read test data from: https://www.ee.iitb.ac.in/~asethi/Dump/TempTest.csv only. Do not use a local copy of the dataset. Predict its dependent (missing last column) using the model with the lowest MSE, RMSE, or NRMSE. Save it as a file RollNo1_RollNo2_1.csv.\n",
        "8. **Disable the prediction csv file saving statement and submit this entire .ipynb file, .py file, and .csv file as a single RollNo1_RollNo2_1.zip file.**\n"
      ]
    },
    {
      "cell_type": "markdown",
      "metadata": {
        "id": "gIVnvhFNTzdq"
      },
      "source": [
        "Q2."
      ]
    },
    {
      "cell_type": "code",
      "execution_count": 28,
      "metadata": {
        "id": "kcaWi-NzTFqF"
      },
      "outputs": [],
      "source": [
        "import pandas as pd\n",
        "df = pd.read_csv('https://www.ee.iitb.ac.in/~asethi/Dump/TempTrain.csv') #Reading the training data from the given link."
      ]
    },
    {
      "cell_type": "code",
      "execution_count": 29,
      "metadata": {
        "colab": {
          "base_uri": "https://localhost:8080/",
          "height": 372
        },
        "id": "3fSEFHixT62-",
        "outputId": "e0cc86dd-6637-4446-b70b-fbe0f7407577"
      },
      "outputs": [
        {
          "output_type": "execute_result",
          "data": {
            "text/html": [
              "\n",
              "  <div id=\"df-96c11c1a-33bf-4cae-bd22-2277caf92d28\">\n",
              "    <div class=\"colab-df-container\">\n",
              "      <div>\n",
              "<style scoped>\n",
              "    .dataframe tbody tr th:only-of-type {\n",
              "        vertical-align: middle;\n",
              "    }\n",
              "\n",
              "    .dataframe tbody tr th {\n",
              "        vertical-align: top;\n",
              "    }\n",
              "\n",
              "    .dataframe thead th {\n",
              "        text-align: right;\n",
              "    }\n",
              "</style>\n",
              "<table border=\"1\" class=\"dataframe\">\n",
              "  <thead>\n",
              "    <tr style=\"text-align: right;\">\n",
              "      <th></th>\n",
              "      <th>Present_Tmax</th>\n",
              "      <th>Present_Tmin</th>\n",
              "      <th>LDAPS_RHmin</th>\n",
              "      <th>LDAPS_RHmax</th>\n",
              "      <th>LDAPS_Tmax_lapse</th>\n",
              "      <th>LDAPS_Tmin_lapse</th>\n",
              "      <th>LDAPS_WS</th>\n",
              "      <th>LDAPS_LH</th>\n",
              "      <th>LDAPS_CC1</th>\n",
              "      <th>LDAPS_CC2</th>\n",
              "      <th>LDAPS_CC3</th>\n",
              "      <th>LDAPS_CC4</th>\n",
              "      <th>LDAPS_PPT1</th>\n",
              "      <th>LDAPS_PPT2</th>\n",
              "      <th>LDAPS_PPT3</th>\n",
              "      <th>LDAPS_PPT4</th>\n",
              "      <th>lat</th>\n",
              "      <th>lon</th>\n",
              "      <th>DEM</th>\n",
              "      <th>Slope</th>\n",
              "      <th>Solar radiation</th>\n",
              "      <th>Next_Tmax</th>\n",
              "    </tr>\n",
              "  </thead>\n",
              "  <tbody>\n",
              "    <tr>\n",
              "      <th>count</th>\n",
              "      <td>6082.000000</td>\n",
              "      <td>6082.000000</td>\n",
              "      <td>6082.000000</td>\n",
              "      <td>6082.000000</td>\n",
              "      <td>6082.000000</td>\n",
              "      <td>6082.000000</td>\n",
              "      <td>6082.000000</td>\n",
              "      <td>6082.000000</td>\n",
              "      <td>6082.000000</td>\n",
              "      <td>6082.000000</td>\n",
              "      <td>6082.000000</td>\n",
              "      <td>6082.000000</td>\n",
              "      <td>6082.000000</td>\n",
              "      <td>6082.000000</td>\n",
              "      <td>6082.000000</td>\n",
              "      <td>6082.000000</td>\n",
              "      <td>6082.000000</td>\n",
              "      <td>6082.000000</td>\n",
              "      <td>6082.000000</td>\n",
              "      <td>6082.000000</td>\n",
              "      <td>6082.000000</td>\n",
              "      <td>6082.000000</td>\n",
              "    </tr>\n",
              "    <tr>\n",
              "      <th>mean</th>\n",
              "      <td>29.801611</td>\n",
              "      <td>23.115291</td>\n",
              "      <td>56.018614</td>\n",
              "      <td>88.515941</td>\n",
              "      <td>29.614770</td>\n",
              "      <td>23.443802</td>\n",
              "      <td>7.139833</td>\n",
              "      <td>62.465128</td>\n",
              "      <td>0.371016</td>\n",
              "      <td>0.353386</td>\n",
              "      <td>0.303437</td>\n",
              "      <td>0.287287</td>\n",
              "      <td>0.579411</td>\n",
              "      <td>0.486801</td>\n",
              "      <td>0.252828</td>\n",
              "      <td>0.257101</td>\n",
              "      <td>37.544753</td>\n",
              "      <td>126.991630</td>\n",
              "      <td>61.872200</td>\n",
              "      <td>1.260263</td>\n",
              "      <td>5343.173788</td>\n",
              "      <td>30.303058</td>\n",
              "    </tr>\n",
              "    <tr>\n",
              "      <th>std</th>\n",
              "      <td>2.951021</td>\n",
              "      <td>2.401665</td>\n",
              "      <td>14.455890</td>\n",
              "      <td>7.312849</td>\n",
              "      <td>2.901865</td>\n",
              "      <td>2.310063</td>\n",
              "      <td>2.252380</td>\n",
              "      <td>33.111077</td>\n",
              "      <td>0.264576</td>\n",
              "      <td>0.259166</td>\n",
              "      <td>0.244996</td>\n",
              "      <td>0.251257</td>\n",
              "      <td>1.877036</td>\n",
              "      <td>1.751910</td>\n",
              "      <td>1.049527</td>\n",
              "      <td>1.154900</td>\n",
              "      <td>0.050415</td>\n",
              "      <td>0.079312</td>\n",
              "      <td>54.231137</td>\n",
              "      <td>1.372206</td>\n",
              "      <td>431.221299</td>\n",
              "      <td>3.097031</td>\n",
              "    </tr>\n",
              "    <tr>\n",
              "      <th>min</th>\n",
              "      <td>20.100000</td>\n",
              "      <td>11.300000</td>\n",
              "      <td>19.794666</td>\n",
              "      <td>58.936283</td>\n",
              "      <td>17.624954</td>\n",
              "      <td>14.720029</td>\n",
              "      <td>2.882580</td>\n",
              "      <td>-13.603212</td>\n",
              "      <td>0.000000</td>\n",
              "      <td>0.000000</td>\n",
              "      <td>0.000000</td>\n",
              "      <td>0.000000</td>\n",
              "      <td>0.000000</td>\n",
              "      <td>0.000000</td>\n",
              "      <td>0.000000</td>\n",
              "      <td>0.000000</td>\n",
              "      <td>37.456200</td>\n",
              "      <td>126.826000</td>\n",
              "      <td>12.370000</td>\n",
              "      <td>0.098500</td>\n",
              "      <td>4329.520508</td>\n",
              "      <td>17.400000</td>\n",
              "    </tr>\n",
              "    <tr>\n",
              "      <th>25%</th>\n",
              "      <td>27.900000</td>\n",
              "      <td>21.500000</td>\n",
              "      <td>45.446830</td>\n",
              "      <td>84.404219</td>\n",
              "      <td>27.694146</td>\n",
              "      <td>21.925374</td>\n",
              "      <td>5.649959</td>\n",
              "      <td>37.250612</td>\n",
              "      <td>0.147001</td>\n",
              "      <td>0.137485</td>\n",
              "      <td>0.094394</td>\n",
              "      <td>0.072224</td>\n",
              "      <td>0.000000</td>\n",
              "      <td>0.000000</td>\n",
              "      <td>0.000000</td>\n",
              "      <td>0.000000</td>\n",
              "      <td>37.510200</td>\n",
              "      <td>126.937000</td>\n",
              "      <td>28.700000</td>\n",
              "      <td>0.271300</td>\n",
              "      <td>4997.796875</td>\n",
              "      <td>28.400000</td>\n",
              "    </tr>\n",
              "    <tr>\n",
              "      <th>50%</th>\n",
              "      <td>29.900000</td>\n",
              "      <td>23.200000</td>\n",
              "      <td>54.158222</td>\n",
              "      <td>90.049240</td>\n",
              "      <td>29.693295</td>\n",
              "      <td>23.617270</td>\n",
              "      <td>6.571684</td>\n",
              "      <td>56.753248</td>\n",
              "      <td>0.317329</td>\n",
              "      <td>0.305546</td>\n",
              "      <td>0.246939</td>\n",
              "      <td>0.215075</td>\n",
              "      <td>0.000000</td>\n",
              "      <td>0.000000</td>\n",
              "      <td>0.000000</td>\n",
              "      <td>0.000000</td>\n",
              "      <td>37.550700</td>\n",
              "      <td>126.995000</td>\n",
              "      <td>45.716000</td>\n",
              "      <td>0.618000</td>\n",
              "      <td>5445.730469</td>\n",
              "      <td>30.500000</td>\n",
              "    </tr>\n",
              "    <tr>\n",
              "      <th>75%</th>\n",
              "      <td>32.000000</td>\n",
              "      <td>24.800000</td>\n",
              "      <td>65.983959</td>\n",
              "      <td>94.024183</td>\n",
              "      <td>31.663208</td>\n",
              "      <td>25.104358</td>\n",
              "      <td>8.131577</td>\n",
              "      <td>84.760510</td>\n",
              "      <td>0.580648</td>\n",
              "      <td>0.555505</td>\n",
              "      <td>0.474692</td>\n",
              "      <td>0.486157</td>\n",
              "      <td>0.079479</td>\n",
              "      <td>0.028317</td>\n",
              "      <td>0.012658</td>\n",
              "      <td>0.000871</td>\n",
              "      <td>37.577600</td>\n",
              "      <td>127.042000</td>\n",
              "      <td>59.832400</td>\n",
              "      <td>1.767800</td>\n",
              "      <td>5729.980835</td>\n",
              "      <td>32.600000</td>\n",
              "    </tr>\n",
              "    <tr>\n",
              "      <th>max</th>\n",
              "      <td>37.600000</td>\n",
              "      <td>29.900000</td>\n",
              "      <td>98.524734</td>\n",
              "      <td>99.996887</td>\n",
              "      <td>37.050301</td>\n",
              "      <td>29.084492</td>\n",
              "      <td>21.857621</td>\n",
              "      <td>213.414006</td>\n",
              "      <td>0.967277</td>\n",
              "      <td>0.966997</td>\n",
              "      <td>0.983789</td>\n",
              "      <td>0.974710</td>\n",
              "      <td>23.701544</td>\n",
              "      <td>21.621661</td>\n",
              "      <td>15.841235</td>\n",
              "      <td>13.998953</td>\n",
              "      <td>37.645000</td>\n",
              "      <td>127.135000</td>\n",
              "      <td>212.335000</td>\n",
              "      <td>5.178200</td>\n",
              "      <td>5992.895996</td>\n",
              "      <td>38.900000</td>\n",
              "    </tr>\n",
              "  </tbody>\n",
              "</table>\n",
              "</div>\n",
              "      <button class=\"colab-df-convert\" onclick=\"convertToInteractive('df-96c11c1a-33bf-4cae-bd22-2277caf92d28')\"\n",
              "              title=\"Convert this dataframe to an interactive table.\"\n",
              "              style=\"display:none;\">\n",
              "        \n",
              "  <svg xmlns=\"http://www.w3.org/2000/svg\" height=\"24px\"viewBox=\"0 0 24 24\"\n",
              "       width=\"24px\">\n",
              "    <path d=\"M0 0h24v24H0V0z\" fill=\"none\"/>\n",
              "    <path d=\"M18.56 5.44l.94 2.06.94-2.06 2.06-.94-2.06-.94-.94-2.06-.94 2.06-2.06.94zm-11 1L8.5 8.5l.94-2.06 2.06-.94-2.06-.94L8.5 2.5l-.94 2.06-2.06.94zm10 10l.94 2.06.94-2.06 2.06-.94-2.06-.94-.94-2.06-.94 2.06-2.06.94z\"/><path d=\"M17.41 7.96l-1.37-1.37c-.4-.4-.92-.59-1.43-.59-.52 0-1.04.2-1.43.59L10.3 9.45l-7.72 7.72c-.78.78-.78 2.05 0 2.83L4 21.41c.39.39.9.59 1.41.59.51 0 1.02-.2 1.41-.59l7.78-7.78 2.81-2.81c.8-.78.8-2.07 0-2.86zM5.41 20L4 18.59l7.72-7.72 1.47 1.35L5.41 20z\"/>\n",
              "  </svg>\n",
              "      </button>\n",
              "      \n",
              "  <style>\n",
              "    .colab-df-container {\n",
              "      display:flex;\n",
              "      flex-wrap:wrap;\n",
              "      gap: 12px;\n",
              "    }\n",
              "\n",
              "    .colab-df-convert {\n",
              "      background-color: #E8F0FE;\n",
              "      border: none;\n",
              "      border-radius: 50%;\n",
              "      cursor: pointer;\n",
              "      display: none;\n",
              "      fill: #1967D2;\n",
              "      height: 32px;\n",
              "      padding: 0 0 0 0;\n",
              "      width: 32px;\n",
              "    }\n",
              "\n",
              "    .colab-df-convert:hover {\n",
              "      background-color: #E2EBFA;\n",
              "      box-shadow: 0px 1px 2px rgba(60, 64, 67, 0.3), 0px 1px 3px 1px rgba(60, 64, 67, 0.15);\n",
              "      fill: #174EA6;\n",
              "    }\n",
              "\n",
              "    [theme=dark] .colab-df-convert {\n",
              "      background-color: #3B4455;\n",
              "      fill: #D2E3FC;\n",
              "    }\n",
              "\n",
              "    [theme=dark] .colab-df-convert:hover {\n",
              "      background-color: #434B5C;\n",
              "      box-shadow: 0px 1px 3px 1px rgba(0, 0, 0, 0.15);\n",
              "      filter: drop-shadow(0px 1px 2px rgba(0, 0, 0, 0.3));\n",
              "      fill: #FFFFFF;\n",
              "    }\n",
              "  </style>\n",
              "\n",
              "      <script>\n",
              "        const buttonEl =\n",
              "          document.querySelector('#df-96c11c1a-33bf-4cae-bd22-2277caf92d28 button.colab-df-convert');\n",
              "        buttonEl.style.display =\n",
              "          google.colab.kernel.accessAllowed ? 'block' : 'none';\n",
              "\n",
              "        async function convertToInteractive(key) {\n",
              "          const element = document.querySelector('#df-96c11c1a-33bf-4cae-bd22-2277caf92d28');\n",
              "          const dataTable =\n",
              "            await google.colab.kernel.invokeFunction('convertToInteractive',\n",
              "                                                     [key], {});\n",
              "          if (!dataTable) return;\n",
              "\n",
              "          const docLinkHtml = 'Like what you see? Visit the ' +\n",
              "            '<a target=\"_blank\" href=https://colab.research.google.com/notebooks/data_table.ipynb>data table notebook</a>'\n",
              "            + ' to learn more about interactive tables.';\n",
              "          element.innerHTML = '';\n",
              "          dataTable['output_type'] = 'display_data';\n",
              "          await google.colab.output.renderOutput(dataTable, element);\n",
              "          const docLink = document.createElement('div');\n",
              "          docLink.innerHTML = docLinkHtml;\n",
              "          element.appendChild(docLink);\n",
              "        }\n",
              "      </script>\n",
              "    </div>\n",
              "  </div>\n",
              "  "
            ],
            "text/plain": [
              "       Present_Tmax  Present_Tmin  ...  Solar radiation    Next_Tmax\n",
              "count   6082.000000   6082.000000  ...      6082.000000  6082.000000\n",
              "mean      29.801611     23.115291  ...      5343.173788    30.303058\n",
              "std        2.951021      2.401665  ...       431.221299     3.097031\n",
              "min       20.100000     11.300000  ...      4329.520508    17.400000\n",
              "25%       27.900000     21.500000  ...      4997.796875    28.400000\n",
              "50%       29.900000     23.200000  ...      5445.730469    30.500000\n",
              "75%       32.000000     24.800000  ...      5729.980835    32.600000\n",
              "max       37.600000     29.900000  ...      5992.895996    38.900000\n",
              "\n",
              "[8 rows x 22 columns]"
            ]
          },
          "metadata": {},
          "execution_count": 29
        }
      ],
      "source": [
        "df.describe() #Decription of the dataframe"
      ]
    },
    {
      "cell_type": "code",
      "execution_count": 30,
      "metadata": {
        "colab": {
          "base_uri": "https://localhost:8080/"
        },
        "id": "dOZ5H1ZMbtOj",
        "outputId": "1e533653-670e-458c-a6d8-784e58be648b"
      },
      "outputs": [
        {
          "output_type": "execute_result",
          "data": {
            "text/plain": [
              "Index(['Present_Tmax', 'Present_Tmin', 'LDAPS_RHmin', 'LDAPS_RHmax',\n",
              "       'LDAPS_Tmax_lapse', 'LDAPS_Tmin_lapse', 'LDAPS_WS', 'LDAPS_LH',\n",
              "       'LDAPS_CC1', 'LDAPS_CC2', 'LDAPS_CC3', 'LDAPS_CC4', 'LDAPS_PPT1',\n",
              "       'LDAPS_PPT2', 'LDAPS_PPT3', 'LDAPS_PPT4', 'lat', 'lon', 'DEM', 'Slope',\n",
              "       'Solar radiation', 'Next_Tmax'],\n",
              "      dtype='object')"
            ]
          },
          "metadata": {},
          "execution_count": 30
        }
      ],
      "source": [
        "df.columns #Columns of the dataframe"
      ]
    },
    {
      "cell_type": "code",
      "execution_count": 31,
      "metadata": {
        "id": "0epSjsKBbmpc"
      },
      "outputs": [],
      "source": [
        "for column in df.columns :\n",
        "  df[column] = (df[column]-df[column].mean())/df[column].std() #Normalizing each column of the data frame to get them into a proper and same range"
      ]
    },
    {
      "cell_type": "code",
      "execution_count": 32,
      "metadata": {
        "colab": {
          "base_uri": "https://localhost:8080/",
          "height": 492
        },
        "id": "RmFS6HfWcCPm",
        "outputId": "c2b3acfb-12ad-4ec9-f369-2766808856b1"
      },
      "outputs": [
        {
          "output_type": "execute_result",
          "data": {
            "text/html": [
              "\n",
              "  <div id=\"df-e3bd406c-74c5-4956-8cf1-af8d1f03e1de\">\n",
              "    <div class=\"colab-df-container\">\n",
              "      <div>\n",
              "<style scoped>\n",
              "    .dataframe tbody tr th:only-of-type {\n",
              "        vertical-align: middle;\n",
              "    }\n",
              "\n",
              "    .dataframe tbody tr th {\n",
              "        vertical-align: top;\n",
              "    }\n",
              "\n",
              "    .dataframe thead th {\n",
              "        text-align: right;\n",
              "    }\n",
              "</style>\n",
              "<table border=\"1\" class=\"dataframe\">\n",
              "  <thead>\n",
              "    <tr style=\"text-align: right;\">\n",
              "      <th></th>\n",
              "      <th>Present_Tmax</th>\n",
              "      <th>Present_Tmin</th>\n",
              "      <th>LDAPS_RHmin</th>\n",
              "      <th>LDAPS_RHmax</th>\n",
              "      <th>LDAPS_Tmax_lapse</th>\n",
              "      <th>LDAPS_Tmin_lapse</th>\n",
              "      <th>LDAPS_WS</th>\n",
              "      <th>LDAPS_LH</th>\n",
              "      <th>LDAPS_CC1</th>\n",
              "      <th>LDAPS_CC2</th>\n",
              "      <th>LDAPS_CC3</th>\n",
              "      <th>LDAPS_CC4</th>\n",
              "      <th>LDAPS_PPT1</th>\n",
              "      <th>LDAPS_PPT2</th>\n",
              "      <th>LDAPS_PPT3</th>\n",
              "      <th>LDAPS_PPT4</th>\n",
              "      <th>lat</th>\n",
              "      <th>lon</th>\n",
              "      <th>DEM</th>\n",
              "      <th>Slope</th>\n",
              "      <th>Solar radiation</th>\n",
              "      <th>Next_Tmax</th>\n",
              "    </tr>\n",
              "  </thead>\n",
              "  <tbody>\n",
              "    <tr>\n",
              "      <th>0</th>\n",
              "      <td>-0.373298</td>\n",
              "      <td>-0.714209</td>\n",
              "      <td>0.154752</td>\n",
              "      <td>0.355596</td>\n",
              "      <td>-0.530924</td>\n",
              "      <td>-0.189114</td>\n",
              "      <td>-0.142492</td>\n",
              "      <td>0.211007</td>\n",
              "      <td>-0.518067</td>\n",
              "      <td>-0.576814</td>\n",
              "      <td>-0.578539</td>\n",
              "      <td>-0.622307</td>\n",
              "      <td>-0.308684</td>\n",
              "      <td>-0.277869</td>\n",
              "      <td>-0.240897</td>\n",
              "      <td>-0.222618</td>\n",
              "      <td>1.187077</td>\n",
              "      <td>-0.007944</td>\n",
              "      <td>2.774473</td>\n",
              "      <td>1.111158</td>\n",
              "      <td>1.506702</td>\n",
              "      <td>-0.388455</td>\n",
              "    </tr>\n",
              "    <tr>\n",
              "      <th>1</th>\n",
              "      <td>0.711072</td>\n",
              "      <td>-0.630934</td>\n",
              "      <td>-0.259771</td>\n",
              "      <td>0.285632</td>\n",
              "      <td>0.081299</td>\n",
              "      <td>0.255927</td>\n",
              "      <td>-0.642850</td>\n",
              "      <td>-0.317950</td>\n",
              "      <td>-0.549964</td>\n",
              "      <td>-0.392084</td>\n",
              "      <td>-0.587734</td>\n",
              "      <td>-0.635047</td>\n",
              "      <td>-0.308684</td>\n",
              "      <td>-0.277869</td>\n",
              "      <td>-0.240897</td>\n",
              "      <td>-0.222618</td>\n",
              "      <td>1.187077</td>\n",
              "      <td>0.509002</td>\n",
              "      <td>-0.315498</td>\n",
              "      <td>-0.543769</td>\n",
              "      <td>1.220113</td>\n",
              "      <td>0.063591</td>\n",
              "    </tr>\n",
              "    <tr>\n",
              "      <th>2</th>\n",
              "      <td>0.609412</td>\n",
              "      <td>0.076909</td>\n",
              "      <td>-0.506931</td>\n",
              "      <td>-0.621147</td>\n",
              "      <td>0.164212</td>\n",
              "      <td>0.485628</td>\n",
              "      <td>-0.444689</td>\n",
              "      <td>-1.265198</td>\n",
              "      <td>-0.611060</td>\n",
              "      <td>-0.370098</td>\n",
              "      <td>-0.405497</td>\n",
              "      <td>-0.577743</td>\n",
              "      <td>-0.308684</td>\n",
              "      <td>-0.277869</td>\n",
              "      <td>-0.240897</td>\n",
              "      <td>-0.222618</td>\n",
              "      <td>0.651523</td>\n",
              "      <td>0.836821</td>\n",
              "      <td>-0.526734</td>\n",
              "      <td>-0.724500</td>\n",
              "      <td>1.206763</td>\n",
              "      <td>0.257324</td>\n",
              "    </tr>\n",
              "    <tr>\n",
              "      <th>3</th>\n",
              "      <td>0.744959</td>\n",
              "      <td>0.118546</td>\n",
              "      <td>0.153652</td>\n",
              "      <td>1.089554</td>\n",
              "      <td>0.030966</td>\n",
              "      <td>-0.050919</td>\n",
              "      <td>-0.661426</td>\n",
              "      <td>0.098517</td>\n",
              "      <td>-0.584495</td>\n",
              "      <td>-0.491515</td>\n",
              "      <td>-0.580741</td>\n",
              "      <td>-0.609091</td>\n",
              "      <td>-0.308684</td>\n",
              "      <td>-0.277869</td>\n",
              "      <td>-0.240897</td>\n",
              "      <td>-0.222618</td>\n",
              "      <td>1.988424</td>\n",
              "      <td>0.382917</td>\n",
              "      <td>-0.297914</td>\n",
              "      <td>0.928824</td>\n",
              "      <td>1.191479</td>\n",
              "      <td>0.451058</td>\n",
              "    </tr>\n",
              "    <tr>\n",
              "      <th>4</th>\n",
              "      <td>0.541639</td>\n",
              "      <td>-0.506020</td>\n",
              "      <td>0.010756</td>\n",
              "      <td>0.224152</td>\n",
              "      <td>-0.172591</td>\n",
              "      <td>0.018475</td>\n",
              "      <td>-0.623709</td>\n",
              "      <td>1.374175</td>\n",
              "      <td>-0.830039</td>\n",
              "      <td>-0.398937</td>\n",
              "      <td>-0.508352</td>\n",
              "      <td>-0.466718</td>\n",
              "      <td>-0.308684</td>\n",
              "      <td>-0.277869</td>\n",
              "      <td>-0.240897</td>\n",
              "      <td>-0.222618</td>\n",
              "      <td>0.117953</td>\n",
              "      <td>1.807670</td>\n",
              "      <td>-0.494812</td>\n",
              "      <td>-0.550036</td>\n",
              "      <td>1.197479</td>\n",
              "      <td>0.289613</td>\n",
              "    </tr>\n",
              "    <tr>\n",
              "      <th>...</th>\n",
              "      <td>...</td>\n",
              "      <td>...</td>\n",
              "      <td>...</td>\n",
              "      <td>...</td>\n",
              "      <td>...</td>\n",
              "      <td>...</td>\n",
              "      <td>...</td>\n",
              "      <td>...</td>\n",
              "      <td>...</td>\n",
              "      <td>...</td>\n",
              "      <td>...</td>\n",
              "      <td>...</td>\n",
              "      <td>...</td>\n",
              "      <td>...</td>\n",
              "      <td>...</td>\n",
              "      <td>...</td>\n",
              "      <td>...</td>\n",
              "      <td>...</td>\n",
              "      <td>...</td>\n",
              "      <td>...</td>\n",
              "      <td>...</td>\n",
              "      <td>...</td>\n",
              "    </tr>\n",
              "    <tr>\n",
              "      <th>6077</th>\n",
              "      <td>-1.999854</td>\n",
              "      <td>-1.380414</td>\n",
              "      <td>1.813577</td>\n",
              "      <td>0.158240</td>\n",
              "      <td>-3.065767</td>\n",
              "      <td>-2.846222</td>\n",
              "      <td>3.449239</td>\n",
              "      <td>0.740781</td>\n",
              "      <td>1.467137</td>\n",
              "      <td>1.963286</td>\n",
              "      <td>2.430503</td>\n",
              "      <td>1.736342</td>\n",
              "      <td>-0.123038</td>\n",
              "      <td>0.951428</td>\n",
              "      <td>4.730100</td>\n",
              "      <td>0.764095</td>\n",
              "      <td>0.117953</td>\n",
              "      <td>0.609869</td>\n",
              "      <td>-0.655974</td>\n",
              "      <td>-0.501501</td>\n",
              "      <td>-2.149979</td>\n",
              "      <td>-3.003863</td>\n",
              "    </tr>\n",
              "    <tr>\n",
              "      <th>6078</th>\n",
              "      <td>-1.830421</td>\n",
              "      <td>-1.422051</td>\n",
              "      <td>1.636584</td>\n",
              "      <td>0.247951</td>\n",
              "      <td>-2.983360</td>\n",
              "      <td>-2.761942</td>\n",
              "      <td>2.976784</td>\n",
              "      <td>0.996020</td>\n",
              "      <td>1.573340</td>\n",
              "      <td>2.116541</td>\n",
              "      <td>2.518801</td>\n",
              "      <td>1.515184</td>\n",
              "      <td>-0.150035</td>\n",
              "      <td>0.803394</td>\n",
              "      <td>5.225416</td>\n",
              "      <td>0.645813</td>\n",
              "      <td>-0.685378</td>\n",
              "      <td>1.189857</td>\n",
              "      <td>-0.735839</td>\n",
              "      <td>-0.821351</td>\n",
              "      <td>-2.183260</td>\n",
              "      <td>-2.874707</td>\n",
              "    </tr>\n",
              "    <tr>\n",
              "      <th>6079</th>\n",
              "      <td>-1.694875</td>\n",
              "      <td>-1.338776</td>\n",
              "      <td>1.820209</td>\n",
              "      <td>0.326808</td>\n",
              "      <td>-3.035937</td>\n",
              "      <td>-2.820717</td>\n",
              "      <td>3.269056</td>\n",
              "      <td>0.685987</td>\n",
              "      <td>1.505961</td>\n",
              "      <td>2.301377</td>\n",
              "      <td>2.707204</td>\n",
              "      <td>2.086953</td>\n",
              "      <td>-0.088321</td>\n",
              "      <td>0.558918</td>\n",
              "      <td>4.391039</td>\n",
              "      <td>0.427137</td>\n",
              "      <td>-0.149824</td>\n",
              "      <td>-1.268787</td>\n",
              "      <td>-0.853469</td>\n",
              "      <td>-0.805173</td>\n",
              "      <td>-2.179625</td>\n",
              "      <td>-2.939285</td>\n",
              "    </tr>\n",
              "    <tr>\n",
              "      <th>6080</th>\n",
              "      <td>-1.694875</td>\n",
              "      <td>-1.338776</td>\n",
              "      <td>1.639500</td>\n",
              "      <td>0.196088</td>\n",
              "      <td>-2.960766</td>\n",
              "      <td>-2.810446</td>\n",
              "      <td>3.272242</td>\n",
              "      <td>0.705668</td>\n",
              "      <td>1.470294</td>\n",
              "      <td>2.291422</td>\n",
              "      <td>2.660271</td>\n",
              "      <td>1.978092</td>\n",
              "      <td>-0.093479</td>\n",
              "      <td>0.597789</td>\n",
              "      <td>4.823778</td>\n",
              "      <td>0.483167</td>\n",
              "      <td>-0.417601</td>\n",
              "      <td>-1.041835</td>\n",
              "      <td>-0.821974</td>\n",
              "      <td>-0.756419</td>\n",
              "      <td>-2.191242</td>\n",
              "      <td>-2.971574</td>\n",
              "    </tr>\n",
              "    <tr>\n",
              "      <th>6081</th>\n",
              "      <td>-1.898194</td>\n",
              "      <td>-1.422051</td>\n",
              "      <td>1.530572</td>\n",
              "      <td>0.201496</td>\n",
              "      <td>-2.969494</td>\n",
              "      <td>-2.804917</td>\n",
              "      <td>3.249192</td>\n",
              "      <td>0.645147</td>\n",
              "      <td>1.472139</td>\n",
              "      <td>2.093942</td>\n",
              "      <td>2.620273</td>\n",
              "      <td>1.899579</td>\n",
              "      <td>-0.117801</td>\n",
              "      <td>0.800498</td>\n",
              "      <td>4.860473</td>\n",
              "      <td>0.531314</td>\n",
              "      <td>-0.417601</td>\n",
              "      <td>-0.272721</td>\n",
              "      <td>-0.779770</td>\n",
              "      <td>-0.720710</td>\n",
              "      <td>-2.160834</td>\n",
              "      <td>-2.971574</td>\n",
              "    </tr>\n",
              "  </tbody>\n",
              "</table>\n",
              "<p>6082 rows × 22 columns</p>\n",
              "</div>\n",
              "      <button class=\"colab-df-convert\" onclick=\"convertToInteractive('df-e3bd406c-74c5-4956-8cf1-af8d1f03e1de')\"\n",
              "              title=\"Convert this dataframe to an interactive table.\"\n",
              "              style=\"display:none;\">\n",
              "        \n",
              "  <svg xmlns=\"http://www.w3.org/2000/svg\" height=\"24px\"viewBox=\"0 0 24 24\"\n",
              "       width=\"24px\">\n",
              "    <path d=\"M0 0h24v24H0V0z\" fill=\"none\"/>\n",
              "    <path d=\"M18.56 5.44l.94 2.06.94-2.06 2.06-.94-2.06-.94-.94-2.06-.94 2.06-2.06.94zm-11 1L8.5 8.5l.94-2.06 2.06-.94-2.06-.94L8.5 2.5l-.94 2.06-2.06.94zm10 10l.94 2.06.94-2.06 2.06-.94-2.06-.94-.94-2.06-.94 2.06-2.06.94z\"/><path d=\"M17.41 7.96l-1.37-1.37c-.4-.4-.92-.59-1.43-.59-.52 0-1.04.2-1.43.59L10.3 9.45l-7.72 7.72c-.78.78-.78 2.05 0 2.83L4 21.41c.39.39.9.59 1.41.59.51 0 1.02-.2 1.41-.59l7.78-7.78 2.81-2.81c.8-.78.8-2.07 0-2.86zM5.41 20L4 18.59l7.72-7.72 1.47 1.35L5.41 20z\"/>\n",
              "  </svg>\n",
              "      </button>\n",
              "      \n",
              "  <style>\n",
              "    .colab-df-container {\n",
              "      display:flex;\n",
              "      flex-wrap:wrap;\n",
              "      gap: 12px;\n",
              "    }\n",
              "\n",
              "    .colab-df-convert {\n",
              "      background-color: #E8F0FE;\n",
              "      border: none;\n",
              "      border-radius: 50%;\n",
              "      cursor: pointer;\n",
              "      display: none;\n",
              "      fill: #1967D2;\n",
              "      height: 32px;\n",
              "      padding: 0 0 0 0;\n",
              "      width: 32px;\n",
              "    }\n",
              "\n",
              "    .colab-df-convert:hover {\n",
              "      background-color: #E2EBFA;\n",
              "      box-shadow: 0px 1px 2px rgba(60, 64, 67, 0.3), 0px 1px 3px 1px rgba(60, 64, 67, 0.15);\n",
              "      fill: #174EA6;\n",
              "    }\n",
              "\n",
              "    [theme=dark] .colab-df-convert {\n",
              "      background-color: #3B4455;\n",
              "      fill: #D2E3FC;\n",
              "    }\n",
              "\n",
              "    [theme=dark] .colab-df-convert:hover {\n",
              "      background-color: #434B5C;\n",
              "      box-shadow: 0px 1px 3px 1px rgba(0, 0, 0, 0.15);\n",
              "      filter: drop-shadow(0px 1px 2px rgba(0, 0, 0, 0.3));\n",
              "      fill: #FFFFFF;\n",
              "    }\n",
              "  </style>\n",
              "\n",
              "      <script>\n",
              "        const buttonEl =\n",
              "          document.querySelector('#df-e3bd406c-74c5-4956-8cf1-af8d1f03e1de button.colab-df-convert');\n",
              "        buttonEl.style.display =\n",
              "          google.colab.kernel.accessAllowed ? 'block' : 'none';\n",
              "\n",
              "        async function convertToInteractive(key) {\n",
              "          const element = document.querySelector('#df-e3bd406c-74c5-4956-8cf1-af8d1f03e1de');\n",
              "          const dataTable =\n",
              "            await google.colab.kernel.invokeFunction('convertToInteractive',\n",
              "                                                     [key], {});\n",
              "          if (!dataTable) return;\n",
              "\n",
              "          const docLinkHtml = 'Like what you see? Visit the ' +\n",
              "            '<a target=\"_blank\" href=https://colab.research.google.com/notebooks/data_table.ipynb>data table notebook</a>'\n",
              "            + ' to learn more about interactive tables.';\n",
              "          element.innerHTML = '';\n",
              "          dataTable['output_type'] = 'display_data';\n",
              "          await google.colab.output.renderOutput(dataTable, element);\n",
              "          const docLink = document.createElement('div');\n",
              "          docLink.innerHTML = docLinkHtml;\n",
              "          element.appendChild(docLink);\n",
              "        }\n",
              "      </script>\n",
              "    </div>\n",
              "  </div>\n",
              "  "
            ],
            "text/plain": [
              "      Present_Tmax  Present_Tmin  ...  Solar radiation  Next_Tmax\n",
              "0        -0.373298     -0.714209  ...         1.506702  -0.388455\n",
              "1         0.711072     -0.630934  ...         1.220113   0.063591\n",
              "2         0.609412      0.076909  ...         1.206763   0.257324\n",
              "3         0.744959      0.118546  ...         1.191479   0.451058\n",
              "4         0.541639     -0.506020  ...         1.197479   0.289613\n",
              "...            ...           ...  ...              ...        ...\n",
              "6077     -1.999854     -1.380414  ...        -2.149979  -3.003863\n",
              "6078     -1.830421     -1.422051  ...        -2.183260  -2.874707\n",
              "6079     -1.694875     -1.338776  ...        -2.179625  -2.939285\n",
              "6080     -1.694875     -1.338776  ...        -2.191242  -2.971574\n",
              "6081     -1.898194     -1.422051  ...        -2.160834  -2.971574\n",
              "\n",
              "[6082 rows x 22 columns]"
            ]
          },
          "metadata": {},
          "execution_count": 32
        }
      ],
      "source": [
        "df #The updated dataframe"
      ]
    },
    {
      "cell_type": "code",
      "execution_count": 33,
      "metadata": {
        "id": "X5YTKQXquZsd"
      },
      "outputs": [],
      "source": [
        "# Splitting dataset into 80:20 between training and validation data\n",
        "train_df = df[:int(0.8 * len(df))] #The dataframe of training dataset\n",
        "val_df = df[int(0.8 * len(df)):] #The dataframe of validation dataset"
      ]
    },
    {
      "cell_type": "code",
      "execution_count": 34,
      "metadata": {
        "id": "xzLxiFSz-3Kd"
      },
      "outputs": [],
      "source": [
        "t_train = (train_df['Next_Tmax']) #Taking the target variable column for training dataset\n",
        "t_val = (val_df['Next_Tmax']) #Taking the target variable column for validation dataset"
      ]
    },
    {
      "cell_type": "code",
      "execution_count": 35,
      "metadata": {
        "id": "1K5mC3O8_v96"
      },
      "outputs": [],
      "source": [
        "train_df = train_df.drop('Next_Tmax',axis=1) #Dropping the target variable column from the training dataset\n",
        "val_df = val_df.drop('Next_Tmax',axis=1) ##Dropping the target variable column from the validation dataset\n",
        "X_train = (np.array(train_df)) #Converting the training dataframe into a numpy array\n",
        "X_val = (np.array(val_df)) #Converting the validation dataframe into a numpy array"
      ]
    },
    {
      "cell_type": "code",
      "execution_count": 36,
      "metadata": {
        "colab": {
          "base_uri": "https://localhost:8080/",
          "height": 492
        },
        "id": "XdCPIO5PLTKO",
        "outputId": "ab4ef3d0-dab1-4de5-963a-26fd9ab4f37f"
      },
      "outputs": [
        {
          "output_type": "execute_result",
          "data": {
            "text/html": [
              "\n",
              "  <div id=\"df-e30ef865-2e7b-4eea-9a76-0232743e2bbe\">\n",
              "    <div class=\"colab-df-container\">\n",
              "      <div>\n",
              "<style scoped>\n",
              "    .dataframe tbody tr th:only-of-type {\n",
              "        vertical-align: middle;\n",
              "    }\n",
              "\n",
              "    .dataframe tbody tr th {\n",
              "        vertical-align: top;\n",
              "    }\n",
              "\n",
              "    .dataframe thead th {\n",
              "        text-align: right;\n",
              "    }\n",
              "</style>\n",
              "<table border=\"1\" class=\"dataframe\">\n",
              "  <thead>\n",
              "    <tr style=\"text-align: right;\">\n",
              "      <th></th>\n",
              "      <th>Present_Tmax</th>\n",
              "      <th>Present_Tmin</th>\n",
              "      <th>LDAPS_RHmin</th>\n",
              "      <th>LDAPS_RHmax</th>\n",
              "      <th>LDAPS_Tmax_lapse</th>\n",
              "      <th>LDAPS_Tmin_lapse</th>\n",
              "      <th>LDAPS_WS</th>\n",
              "      <th>LDAPS_LH</th>\n",
              "      <th>LDAPS_CC1</th>\n",
              "      <th>LDAPS_CC2</th>\n",
              "      <th>LDAPS_CC3</th>\n",
              "      <th>LDAPS_CC4</th>\n",
              "      <th>LDAPS_PPT1</th>\n",
              "      <th>LDAPS_PPT2</th>\n",
              "      <th>LDAPS_PPT3</th>\n",
              "      <th>LDAPS_PPT4</th>\n",
              "      <th>lat</th>\n",
              "      <th>lon</th>\n",
              "      <th>DEM</th>\n",
              "      <th>Slope</th>\n",
              "      <th>Solar radiation</th>\n",
              "    </tr>\n",
              "  </thead>\n",
              "  <tbody>\n",
              "    <tr>\n",
              "      <th>0</th>\n",
              "      <td>-0.373298</td>\n",
              "      <td>-0.714209</td>\n",
              "      <td>0.154752</td>\n",
              "      <td>0.355596</td>\n",
              "      <td>-0.530924</td>\n",
              "      <td>-0.189114</td>\n",
              "      <td>-0.142492</td>\n",
              "      <td>0.211007</td>\n",
              "      <td>-0.518067</td>\n",
              "      <td>-0.576814</td>\n",
              "      <td>-0.578539</td>\n",
              "      <td>-0.622307</td>\n",
              "      <td>-0.308684</td>\n",
              "      <td>-0.277869</td>\n",
              "      <td>-0.240897</td>\n",
              "      <td>-0.222618</td>\n",
              "      <td>1.187077</td>\n",
              "      <td>-0.007944</td>\n",
              "      <td>2.774473</td>\n",
              "      <td>1.111158</td>\n",
              "      <td>1.506702</td>\n",
              "    </tr>\n",
              "    <tr>\n",
              "      <th>1</th>\n",
              "      <td>0.711072</td>\n",
              "      <td>-0.630934</td>\n",
              "      <td>-0.259771</td>\n",
              "      <td>0.285632</td>\n",
              "      <td>0.081299</td>\n",
              "      <td>0.255927</td>\n",
              "      <td>-0.642850</td>\n",
              "      <td>-0.317950</td>\n",
              "      <td>-0.549964</td>\n",
              "      <td>-0.392084</td>\n",
              "      <td>-0.587734</td>\n",
              "      <td>-0.635047</td>\n",
              "      <td>-0.308684</td>\n",
              "      <td>-0.277869</td>\n",
              "      <td>-0.240897</td>\n",
              "      <td>-0.222618</td>\n",
              "      <td>1.187077</td>\n",
              "      <td>0.509002</td>\n",
              "      <td>-0.315498</td>\n",
              "      <td>-0.543769</td>\n",
              "      <td>1.220113</td>\n",
              "    </tr>\n",
              "    <tr>\n",
              "      <th>2</th>\n",
              "      <td>0.609412</td>\n",
              "      <td>0.076909</td>\n",
              "      <td>-0.506931</td>\n",
              "      <td>-0.621147</td>\n",
              "      <td>0.164212</td>\n",
              "      <td>0.485628</td>\n",
              "      <td>-0.444689</td>\n",
              "      <td>-1.265198</td>\n",
              "      <td>-0.611060</td>\n",
              "      <td>-0.370098</td>\n",
              "      <td>-0.405497</td>\n",
              "      <td>-0.577743</td>\n",
              "      <td>-0.308684</td>\n",
              "      <td>-0.277869</td>\n",
              "      <td>-0.240897</td>\n",
              "      <td>-0.222618</td>\n",
              "      <td>0.651523</td>\n",
              "      <td>0.836821</td>\n",
              "      <td>-0.526734</td>\n",
              "      <td>-0.724500</td>\n",
              "      <td>1.206763</td>\n",
              "    </tr>\n",
              "    <tr>\n",
              "      <th>3</th>\n",
              "      <td>0.744959</td>\n",
              "      <td>0.118546</td>\n",
              "      <td>0.153652</td>\n",
              "      <td>1.089554</td>\n",
              "      <td>0.030966</td>\n",
              "      <td>-0.050919</td>\n",
              "      <td>-0.661426</td>\n",
              "      <td>0.098517</td>\n",
              "      <td>-0.584495</td>\n",
              "      <td>-0.491515</td>\n",
              "      <td>-0.580741</td>\n",
              "      <td>-0.609091</td>\n",
              "      <td>-0.308684</td>\n",
              "      <td>-0.277869</td>\n",
              "      <td>-0.240897</td>\n",
              "      <td>-0.222618</td>\n",
              "      <td>1.988424</td>\n",
              "      <td>0.382917</td>\n",
              "      <td>-0.297914</td>\n",
              "      <td>0.928824</td>\n",
              "      <td>1.191479</td>\n",
              "    </tr>\n",
              "    <tr>\n",
              "      <th>4</th>\n",
              "      <td>0.541639</td>\n",
              "      <td>-0.506020</td>\n",
              "      <td>0.010756</td>\n",
              "      <td>0.224152</td>\n",
              "      <td>-0.172591</td>\n",
              "      <td>0.018475</td>\n",
              "      <td>-0.623709</td>\n",
              "      <td>1.374175</td>\n",
              "      <td>-0.830039</td>\n",
              "      <td>-0.398937</td>\n",
              "      <td>-0.508352</td>\n",
              "      <td>-0.466718</td>\n",
              "      <td>-0.308684</td>\n",
              "      <td>-0.277869</td>\n",
              "      <td>-0.240897</td>\n",
              "      <td>-0.222618</td>\n",
              "      <td>0.117953</td>\n",
              "      <td>1.807670</td>\n",
              "      <td>-0.494812</td>\n",
              "      <td>-0.550036</td>\n",
              "      <td>1.197479</td>\n",
              "    </tr>\n",
              "    <tr>\n",
              "      <th>...</th>\n",
              "      <td>...</td>\n",
              "      <td>...</td>\n",
              "      <td>...</td>\n",
              "      <td>...</td>\n",
              "      <td>...</td>\n",
              "      <td>...</td>\n",
              "      <td>...</td>\n",
              "      <td>...</td>\n",
              "      <td>...</td>\n",
              "      <td>...</td>\n",
              "      <td>...</td>\n",
              "      <td>...</td>\n",
              "      <td>...</td>\n",
              "      <td>...</td>\n",
              "      <td>...</td>\n",
              "      <td>...</td>\n",
              "      <td>...</td>\n",
              "      <td>...</td>\n",
              "      <td>...</td>\n",
              "      <td>...</td>\n",
              "      <td>...</td>\n",
              "    </tr>\n",
              "    <tr>\n",
              "      <th>4860</th>\n",
              "      <td>1.490463</td>\n",
              "      <td>0.493287</td>\n",
              "      <td>-0.492259</td>\n",
              "      <td>-0.262033</td>\n",
              "      <td>0.951838</td>\n",
              "      <td>0.836488</td>\n",
              "      <td>-0.842455</td>\n",
              "      <td>0.869443</td>\n",
              "      <td>-0.243426</td>\n",
              "      <td>-0.699126</td>\n",
              "      <td>0.803868</td>\n",
              "      <td>1.663223</td>\n",
              "      <td>-0.308684</td>\n",
              "      <td>-0.277869</td>\n",
              "      <td>-0.240897</td>\n",
              "      <td>0.146872</td>\n",
              "      <td>-0.685378</td>\n",
              "      <td>1.189857</td>\n",
              "      <td>-0.735839</td>\n",
              "      <td>-0.821351</td>\n",
              "      <td>0.969386</td>\n",
              "    </tr>\n",
              "    <tr>\n",
              "      <th>4861</th>\n",
              "      <td>1.354917</td>\n",
              "      <td>0.160184</td>\n",
              "      <td>-0.607075</td>\n",
              "      <td>-0.706292</td>\n",
              "      <td>0.950081</td>\n",
              "      <td>1.178612</td>\n",
              "      <td>-0.522916</td>\n",
              "      <td>0.860561</td>\n",
              "      <td>-0.346872</td>\n",
              "      <td>-0.729045</td>\n",
              "      <td>1.020041</td>\n",
              "      <td>1.581227</td>\n",
              "      <td>-0.308684</td>\n",
              "      <td>-0.277869</td>\n",
              "      <td>-0.240897</td>\n",
              "      <td>-0.092696</td>\n",
              "      <td>-0.149824</td>\n",
              "      <td>-1.268787</td>\n",
              "      <td>-0.853469</td>\n",
              "      <td>-0.805173</td>\n",
              "      <td>0.966499</td>\n",
              "    </tr>\n",
              "    <tr>\n",
              "      <th>4862</th>\n",
              "      <td>1.117711</td>\n",
              "      <td>0.410011</td>\n",
              "      <td>-0.700953</td>\n",
              "      <td>-1.382089</td>\n",
              "      <td>1.146631</td>\n",
              "      <td>1.452554</td>\n",
              "      <td>-0.377196</td>\n",
              "      <td>-0.264226</td>\n",
              "      <td>-0.313752</td>\n",
              "      <td>-0.675591</td>\n",
              "      <td>0.907455</td>\n",
              "      <td>1.563443</td>\n",
              "      <td>-0.308684</td>\n",
              "      <td>-0.277869</td>\n",
              "      <td>-0.240897</td>\n",
              "      <td>-0.058037</td>\n",
              "      <td>-0.417601</td>\n",
              "      <td>-1.041835</td>\n",
              "      <td>-0.821974</td>\n",
              "      <td>-0.756419</td>\n",
              "      <td>0.963273</td>\n",
              "    </tr>\n",
              "    <tr>\n",
              "      <th>4863</th>\n",
              "      <td>1.117711</td>\n",
              "      <td>0.493287</td>\n",
              "      <td>-0.867528</td>\n",
              "      <td>-1.512979</td>\n",
              "      <td>1.276299</td>\n",
              "      <td>1.367395</td>\n",
              "      <td>-0.270115</td>\n",
              "      <td>-0.956065</td>\n",
              "      <td>-0.262933</td>\n",
              "      <td>-0.725207</td>\n",
              "      <td>0.709370</td>\n",
              "      <td>1.610793</td>\n",
              "      <td>-0.308684</td>\n",
              "      <td>-0.277869</td>\n",
              "      <td>-0.240897</td>\n",
              "      <td>0.026117</td>\n",
              "      <td>-0.417601</td>\n",
              "      <td>-0.272721</td>\n",
              "      <td>-0.779770</td>\n",
              "      <td>-0.720710</td>\n",
              "      <td>0.976034</td>\n",
              "    </tr>\n",
              "    <tr>\n",
              "      <th>4864</th>\n",
              "      <td>0.202773</td>\n",
              "      <td>0.035271</td>\n",
              "      <td>1.599823</td>\n",
              "      <td>0.841420</td>\n",
              "      <td>-1.365561</td>\n",
              "      <td>-0.743362</td>\n",
              "      <td>-0.728565</td>\n",
              "      <td>0.086962</td>\n",
              "      <td>1.707333</td>\n",
              "      <td>0.450816</td>\n",
              "      <td>1.812317</td>\n",
              "      <td>0.978182</td>\n",
              "      <td>0.024847</td>\n",
              "      <td>-0.277869</td>\n",
              "      <td>-0.191053</td>\n",
              "      <td>0.114595</td>\n",
              "      <td>1.187077</td>\n",
              "      <td>-0.007944</td>\n",
              "      <td>2.774473</td>\n",
              "      <td>1.111158</td>\n",
              "      <td>1.275660</td>\n",
              "    </tr>\n",
              "  </tbody>\n",
              "</table>\n",
              "<p>4865 rows × 21 columns</p>\n",
              "</div>\n",
              "      <button class=\"colab-df-convert\" onclick=\"convertToInteractive('df-e30ef865-2e7b-4eea-9a76-0232743e2bbe')\"\n",
              "              title=\"Convert this dataframe to an interactive table.\"\n",
              "              style=\"display:none;\">\n",
              "        \n",
              "  <svg xmlns=\"http://www.w3.org/2000/svg\" height=\"24px\"viewBox=\"0 0 24 24\"\n",
              "       width=\"24px\">\n",
              "    <path d=\"M0 0h24v24H0V0z\" fill=\"none\"/>\n",
              "    <path d=\"M18.56 5.44l.94 2.06.94-2.06 2.06-.94-2.06-.94-.94-2.06-.94 2.06-2.06.94zm-11 1L8.5 8.5l.94-2.06 2.06-.94-2.06-.94L8.5 2.5l-.94 2.06-2.06.94zm10 10l.94 2.06.94-2.06 2.06-.94-2.06-.94-.94-2.06-.94 2.06-2.06.94z\"/><path d=\"M17.41 7.96l-1.37-1.37c-.4-.4-.92-.59-1.43-.59-.52 0-1.04.2-1.43.59L10.3 9.45l-7.72 7.72c-.78.78-.78 2.05 0 2.83L4 21.41c.39.39.9.59 1.41.59.51 0 1.02-.2 1.41-.59l7.78-7.78 2.81-2.81c.8-.78.8-2.07 0-2.86zM5.41 20L4 18.59l7.72-7.72 1.47 1.35L5.41 20z\"/>\n",
              "  </svg>\n",
              "      </button>\n",
              "      \n",
              "  <style>\n",
              "    .colab-df-container {\n",
              "      display:flex;\n",
              "      flex-wrap:wrap;\n",
              "      gap: 12px;\n",
              "    }\n",
              "\n",
              "    .colab-df-convert {\n",
              "      background-color: #E8F0FE;\n",
              "      border: none;\n",
              "      border-radius: 50%;\n",
              "      cursor: pointer;\n",
              "      display: none;\n",
              "      fill: #1967D2;\n",
              "      height: 32px;\n",
              "      padding: 0 0 0 0;\n",
              "      width: 32px;\n",
              "    }\n",
              "\n",
              "    .colab-df-convert:hover {\n",
              "      background-color: #E2EBFA;\n",
              "      box-shadow: 0px 1px 2px rgba(60, 64, 67, 0.3), 0px 1px 3px 1px rgba(60, 64, 67, 0.15);\n",
              "      fill: #174EA6;\n",
              "    }\n",
              "\n",
              "    [theme=dark] .colab-df-convert {\n",
              "      background-color: #3B4455;\n",
              "      fill: #D2E3FC;\n",
              "    }\n",
              "\n",
              "    [theme=dark] .colab-df-convert:hover {\n",
              "      background-color: #434B5C;\n",
              "      box-shadow: 0px 1px 3px 1px rgba(0, 0, 0, 0.15);\n",
              "      filter: drop-shadow(0px 1px 2px rgba(0, 0, 0, 0.3));\n",
              "      fill: #FFFFFF;\n",
              "    }\n",
              "  </style>\n",
              "\n",
              "      <script>\n",
              "        const buttonEl =\n",
              "          document.querySelector('#df-e30ef865-2e7b-4eea-9a76-0232743e2bbe button.colab-df-convert');\n",
              "        buttonEl.style.display =\n",
              "          google.colab.kernel.accessAllowed ? 'block' : 'none';\n",
              "\n",
              "        async function convertToInteractive(key) {\n",
              "          const element = document.querySelector('#df-e30ef865-2e7b-4eea-9a76-0232743e2bbe');\n",
              "          const dataTable =\n",
              "            await google.colab.kernel.invokeFunction('convertToInteractive',\n",
              "                                                     [key], {});\n",
              "          if (!dataTable) return;\n",
              "\n",
              "          const docLinkHtml = 'Like what you see? Visit the ' +\n",
              "            '<a target=\"_blank\" href=https://colab.research.google.com/notebooks/data_table.ipynb>data table notebook</a>'\n",
              "            + ' to learn more about interactive tables.';\n",
              "          element.innerHTML = '';\n",
              "          dataTable['output_type'] = 'display_data';\n",
              "          await google.colab.output.renderOutput(dataTable, element);\n",
              "          const docLink = document.createElement('div');\n",
              "          docLink.innerHTML = docLinkHtml;\n",
              "          element.appendChild(docLink);\n",
              "        }\n",
              "      </script>\n",
              "    </div>\n",
              "  </div>\n",
              "  "
            ],
            "text/plain": [
              "      Present_Tmax  Present_Tmin  ...     Slope  Solar radiation\n",
              "0        -0.373298     -0.714209  ...  1.111158         1.506702\n",
              "1         0.711072     -0.630934  ... -0.543769         1.220113\n",
              "2         0.609412      0.076909  ... -0.724500         1.206763\n",
              "3         0.744959      0.118546  ...  0.928824         1.191479\n",
              "4         0.541639     -0.506020  ... -0.550036         1.197479\n",
              "...            ...           ...  ...       ...              ...\n",
              "4860      1.490463      0.493287  ... -0.821351         0.969386\n",
              "4861      1.354917      0.160184  ... -0.805173         0.966499\n",
              "4862      1.117711      0.410011  ... -0.756419         0.963273\n",
              "4863      1.117711      0.493287  ... -0.720710         0.976034\n",
              "4864      0.202773      0.035271  ...  1.111158         1.275660\n",
              "\n",
              "[4865 rows x 21 columns]"
            ]
          },
          "metadata": {},
          "execution_count": 36
        }
      ],
      "source": [
        "train_df"
      ]
    },
    {
      "cell_type": "code",
      "execution_count": 37,
      "metadata": {
        "colab": {
          "base_uri": "https://localhost:8080/"
        },
        "id": "hXkpBLoCMTUK",
        "outputId": "6036be7f-31ab-4284-ecb8-ff59318c4853"
      },
      "outputs": [
        {
          "output_type": "execute_result",
          "data": {
            "text/plain": [
              "0      -0.388455\n",
              "1       0.063591\n",
              "2       0.257324\n",
              "3       0.451058\n",
              "4       0.289613\n",
              "          ...   \n",
              "4860    2.033219\n",
              "4861    1.419728\n",
              "4862    1.387439\n",
              "4863    1.710329\n",
              "4864   -0.679056\n",
              "Name: Next_Tmax, Length: 4865, dtype: float64"
            ]
          },
          "metadata": {},
          "execution_count": 37
        }
      ],
      "source": [
        "t_train"
      ]
    },
    {
      "cell_type": "markdown",
      "metadata": {
        "id": "evgh4XsWxxk8"
      },
      "source": [
        "Q3. For L2 LOss function:"
      ]
    },
    {
      "cell_type": "code",
      "execution_count": 38,
      "metadata": {
        "id": "OJ1V0rNlvPGv"
      },
      "outputs": [],
      "source": [
        "w = np.random.rand(22) #Taking 22 random values for weights\n",
        "lamda_values = [2,1,0.1,0.01,0.001,0.0001] #Taken arbitrarily\n",
        "Val_RMSE = [] #Created empty lists for storing the results.\n",
        "Val_NRMSE=[]\n",
        "Train_RMSE = []\n",
        "W_list = []\n",
        "for lamda in lamda_values:  \n",
        "  w_final, train_loss_final, validation_loss_final, validation_NRMSE = Gradient_Descent(X_train, X_val, t_train, t_val, w, lamda, 1000, 1e-10, 1e-5, L2_Loss,L2_Gradient)\n",
        "  w = w_final #Accessing the final weight obtained which minimizes the loss function \n",
        "  Val_RMSE.append((MSE_Loss(X_val, t_val, w, lamda =0))**(0.5)) #Adding validation RmSE for the obtained weights and the data\n",
        "  Val_NRMSE.append(validation_NRMSE) #Adding validation NRMSE for the obtained weights and the data(directly taken from output of gradient descent function)\n",
        "  Train_RMSE.append((MSE_Loss(X_train, t_train, w, lamda =0))**(0.5)) ##Adding Train RmSE for the obtained weights and the data\n",
        "  W_list.append(w) #Adding the weight values to the list of weights"
      ]
    },
    {
      "cell_type": "code",
      "execution_count": 39,
      "metadata": {
        "colab": {
          "base_uri": "https://localhost:8080/",
          "height": 278
        },
        "id": "4WZRNm50IXRf",
        "outputId": "e28df082-5f8e-4cfe-a09a-018fecd6592b"
      },
      "outputs": [
        {
          "output_type": "display_data",
          "data": {
            "image/png": "[encoded data removed]",
            "text/plain": [
              "<Figure size 432x288 with 1 Axes>"
            ]
          },
          "metadata": {
            "needs_background": "light"
          }
        }
      ],
      "source": [
        "#Plotting training RMSE vs 1/lamda plot:\n",
        "plt.plot([1/lamda for lamda in lamda_values],Train_RMSE)\n",
        "plt.xlabel('1/lamda or model complexity')\n",
        "plt.ylabel('Training RMSE')\n",
        "plt.show()"
      ]
    },
    {
      "cell_type": "code",
      "execution_count": 40,
      "metadata": {
        "colab": {
          "base_uri": "https://localhost:8080/",
          "height": 280
        },
        "id": "RLVTNlP18z_b",
        "outputId": "0286cfc8-ac41-4a69-a51a-554a5efa605a"
      },
      "outputs": [
        {
          "output_type": "display_data",
          "data": {
            "image/png": "[encoded data removed]",
            "text/plain": [
              "<Figure size 432x288 with 1 Axes>"
            ]
          },
          "metadata": {
            "needs_background": "light"
          }
        }
      ],
      "source": [
        "#Plotting validation RMSE vs 1/lamda plot:\n",
        "plt.plot([1/lamda for lamda in lamda_values],Val_RMSE)\n",
        "plt.xlabel('1/lamda or model complexity')\n",
        "plt.ylabel('Validation RMSE')\n",
        "plt.show()"
      ]
    },
    {
      "cell_type": "code",
      "source": [
        "#Plotting combined plot of RMSEs vs 1/lamda :\n",
        "plt.plot([1/lamda for lamda in lamda_values],Train_RMSE)\n",
        "plt.plot([1/lamda for lamda in lamda_values],Val_RMSE)\n",
        "plt.xlabel('1/lamda or model complexity')\n",
        "plt.ylabel('RMSE')\n",
        "plt.legend(['Train RMSE','Validation RMSE'])\n",
        "plt.show()"
      ],
      "metadata": {
        "colab": {
          "base_uri": "https://localhost:8080/",
          "height": 280
        },
        "id": "XziXMCmxaksm",
        "outputId": "6be1c490-cf18-46d1-d46f-cab07c6fa2da"
      },
      "execution_count": 41,
      "outputs": [
        {
          "output_type": "display_data",
          "data": {
            "image/png": "[encoded data removed]",
            "text/plain": [
              "<Figure size 432x288 with 1 Axes>"
            ]
          },
          "metadata": {
            "needs_background": "light"
          }
        }
      ]
    },
    {
      "cell_type": "markdown",
      "metadata": {
        "id": "bGUrB8hmPyuk"
      },
      "source": [
        "It is clear from the above plots that the best lamda for MSE+lamda*L2(w) among the given value of lamda is 0.0001 \n",
        "\n",
        "The weights, validation RMSE and validation NRMSE for the same are given in following cells:"
      ]
    },
    {
      "cell_type": "code",
      "execution_count": 42,
      "metadata": {
        "colab": {
          "base_uri": "https://localhost:8080/"
        },
        "id": "CtuzxaR0Qp4B",
        "outputId": "6fbd4cbe-38fd-4636-bdec-c4bad3245c41"
      },
      "outputs": [
        {
          "output_type": "stream",
          "name": "stdout",
          "text": [
            "The weights for lamda = 0.0001 are : [ 0.16402481  0.01813317  0.29095671 -0.03585896  0.27562109  0.12287888\n",
            "  0.18172991  0.58807394  0.03333822  0.60213398  0.36842526 -0.15785958\n",
            "  0.76830987  0.25807518  0.65838166  0.07232035  0.2161092   0.415929\n",
            "  0.70282923 -0.03346265  0.30834854  0.        ]\n",
            "Validation RMSE: 2.5588544087831258\n",
            "Validation NRMSE: 2.074320831950551\n"
          ]
        }
      ],
      "source": [
        "print(\"The weights for lamda = {} are : {}\".format(lamda_values[5],W_list[5]))\n",
        "print(\"Validation RMSE: {}\".format(Val_RMSE[5]))\n",
        "print(\"Validation NRMSE: {}\".format(Val_NRMSE[5]))"
      ]
    },
    {
      "cell_type": "code",
      "source": [
        "print('Validation RMSE list: ',Val_RMSE)"
      ],
      "metadata": {
        "colab": {
          "base_uri": "https://localhost:8080/"
        },
        "id": "xJCRy7Cmb2XA",
        "outputId": "b392858d-5291-4a12-819e-a61d6a30e5a0"
      },
      "execution_count": 43,
      "outputs": [
        {
          "output_type": "stream",
          "name": "stdout",
          "text": [
            "Validation RMSE list:  [3.95176774027322, 3.6007470917274857, 3.2962958931821382, 3.023549111801842, 2.7786151682818234, 2.5588544087831258]\n"
          ]
        }
      ]
    },
    {
      "cell_type": "markdown",
      "metadata": {
        "id": "3ZYNiS9lSDt5"
      },
      "source": [
        "Q4. For L1_loss function:"
      ]
    },
    {
      "cell_type": "code",
      "execution_count": 44,
      "metadata": {
        "id": "Q_KGgdBISFE2"
      },
      "outputs": [],
      "source": [
        "w = np.random.rand(22) #Taking 22 random values for weights\n",
        "lamda_values = [2,1,0.1,0.01,0.001,0.0001] #Taking arbitrarily\n",
        "Val_RMSE = [] #Created empty lists for storing the results.\n",
        "Val_NRMSE=[]\n",
        "Train_RMSE = []\n",
        "W_list = []\n",
        "for lamda in lamda_values:  \n",
        "  w_final, train_loss_final, validation_loss_final, validation_NRMSE = Gradient_Descent(X_train, X_val, t_train, t_val, w, lamda, 1000, 1e-10, 1e-5, L1_Loss,L1_Gradient)\n",
        "  w = w_final  #Accessing the final weight obtained which minimizes the loss function \n",
        "  Val_RMSE.append((MSE_Loss(X_val, t_val, w, lamda =0))**(0.5)) #Adding validation RmSE for the obtained weights and the data\n",
        "  Val_NRMSE.append(validation_NRMSE) #Adding validation NRMSE for the obtained weights and the data(directly taken from output of gradient descent function)\n",
        "  Train_RMSE.append((MSE_Loss(X_train, t_train, w, lamda =0))**(0.5)) ##Adding Train RmSE for the obtained weights and the data\n",
        "  W_list.append(w) #Adding the final weights into list"
      ]
    },
    {
      "cell_type": "code",
      "execution_count": 45,
      "metadata": {
        "colab": {
          "base_uri": "https://localhost:8080/",
          "height": 278
        },
        "id": "A6f5s1z9T_AW",
        "outputId": "8b4e58d8-cef5-4fcf-d786-9e98c62679df"
      },
      "outputs": [
        {
          "output_type": "display_data",
          "data": {
            "image/png": "[encoded data removed]",
            "text/plain": [
              "<Figure size 432x288 with 1 Axes>"
            ]
          },
          "metadata": {
            "needs_background": "light"
          }
        }
      ],
      "source": [
        "#Plotting training RMSE vs 1/lamda plot:\n",
        "plt.plot([1/lamda for lamda in lamda_values],Train_RMSE)\n",
        "plt.xlabel('1/lamda or model complexity')\n",
        "plt.ylabel('Training RMSE')\n",
        "plt.show()"
      ]
    },
    {
      "cell_type": "code",
      "execution_count": 46,
      "metadata": {
        "colab": {
          "base_uri": "https://localhost:8080/",
          "height": 278
        },
        "id": "JHZNUN5tUCjM",
        "outputId": "e7e5ea8a-6833-4f33-a5b8-8bae767ebb2b"
      },
      "outputs": [
        {
          "output_type": "display_data",
          "data": {
            "image/png": "[encoded data removed]",
            "text/plain": [
              "<Figure size 432x288 with 1 Axes>"
            ]
          },
          "metadata": {
            "needs_background": "light"
          }
        }
      ],
      "source": [
        "#Plotting validation RMSE vs 1/lamda plot:\n",
        "plt.plot([1/lamda for lamda in lamda_values],Val_RMSE)\n",
        "plt.xlabel('1/lamda or model complexity')\n",
        "plt.ylabel('Validation RMSE')\n",
        "plt.show()"
      ]
    },
    {
      "cell_type": "code",
      "source": [
        "#Plotting combined plot of RMSEs vs 1/lamda :\n",
        "plt.plot([1/lamda for lamda in lamda_values],Train_RMSE)\n",
        "plt.plot([1/lamda for lamda in lamda_values],Val_RMSE)\n",
        "plt.xlabel('1/lamda or model complexity')\n",
        "plt.ylabel('RMSE')\n",
        "plt.legend(['Train RMSE','Validation RMSE'])\n",
        "plt.show()"
      ],
      "metadata": {
        "colab": {
          "base_uri": "https://localhost:8080/",
          "height": 281
        },
        "id": "H9aR1BE4dBsv",
        "outputId": "e73497dd-5e7a-4cbe-979d-994221550930"
      },
      "execution_count": 47,
      "outputs": [
        {
          "output_type": "display_data",
          "data": {
            "image/png": "[encoded data removed]",
            "text/plain": [
              "<Figure size 432x288 with 1 Axes>"
            ]
          },
          "metadata": {
            "needs_background": "light"
          }
        }
      ]
    },
    {
      "cell_type": "markdown",
      "source": [
        "It is clear from the above plots that the best lamda for MSE+lamda*L1(w) among the given value of lamda is 0.0001 \n",
        "\n",
        "The weights, validation RMSE and validation NRMSE for the same are given in following cells:"
      ],
      "metadata": {
        "id": "uejUIx6icxv7"
      }
    },
    {
      "cell_type": "code",
      "execution_count": 48,
      "metadata": {
        "colab": {
          "base_uri": "https://localhost:8080/"
        },
        "id": "mdPhRLc7ZFMw",
        "outputId": "96a53ab7-e080-439d-ee60-22ac26ef00b9"
      },
      "outputs": [
        {
          "output_type": "stream",
          "name": "stdout",
          "text": [
            "The weights for lamda = 0.0001 are : [ 0.1804936   0.81707418  0.10428682  0.38156399  0.49057455  0.82820336\n",
            "  0.48708515  0.04037224  0.08751701  0.1053858   0.18700211  0.38377815\n",
            "  0.02935042  0.38112717 -0.0143876   0.04581396  0.08697351  0.72981169\n",
            "  0.78082791  0.25384439  0.18777258  0.        ]\n",
            "Validation RMSE: 2.1550671880843524\n",
            "Validation NRMSE: 1.7469930087278156\n"
          ]
        }
      ],
      "source": [
        "print(\"The weights for lamda = {} are : {}\".format(lamda_values[5],W_list[5]))\n",
        "print(\"Validation RMSE: {}\".format(Val_RMSE[5]))\n",
        "print(\"Validation NRMSE: {}\".format(Val_NRMSE[5]))"
      ]
    },
    {
      "cell_type": "code",
      "source": [
        "print('Validation RMSE list: ',Val_RMSE)"
      ],
      "metadata": {
        "colab": {
          "base_uri": "https://localhost:8080/"
        },
        "id": "3fpx0fDxcoRx",
        "outputId": "ae786f85-0fb3-4daf-ba5d-f188f7172740"
      },
      "execution_count": 49,
      "outputs": [
        {
          "output_type": "stream",
          "name": "stdout",
          "text": [
            "Validation RMSE list:  [3.0182727443171675, 2.7531490898018047, 2.569885833225566, 2.4134223921221354, 2.276081232407283, 2.1550671880843524]\n"
          ]
        }
      ]
    },
    {
      "cell_type": "markdown",
      "metadata": {
        "id": "8imACLnpWH02"
      },
      "source": [
        "Q5. For Pseudo Inverse Method:"
      ]
    },
    {
      "cell_type": "code",
      "execution_count": 50,
      "metadata": {
        "id": "f_jcie-EVEIP"
      },
      "outputs": [],
      "source": [
        "w = np.random.rand(22) #Taking 22 random values for weights\n",
        "lamda_values = [2,1,0.1,0.01,0.001,0.0001] #Taking arbitrarily\n",
        "Val_RMSE = [] #Created empty lists for storing the results.\n",
        "Val_NRMSE=[]\n",
        "Train_RMSE = []\n",
        "W_list = []\n",
        "for lamda in lamda_values:  \n",
        "  w = Pseudo_Inverse(X_train,t_train,lamda) #Calculating the weight using the pseudo inverse method\n",
        "  Val_RMSE.append((MSE_Loss(X_val, t_val, w, lamda =0))**(0.5))  #Adding validation RmSE for the obtained weights and the data\n",
        "  Val_NRMSE.append(NRMSE_Metric (X_val, t_val, w, lamda=0)) #Adding validation NRMSE for the obtained weights and the data(directly taken from output of gradient descent function)\n",
        "  Train_RMSE.append((MSE_Loss(X_train, t_train, w, lamda =0))**(0.5)) ##Adding Train RmSE for the obtained weights and the data\n",
        "  W_list.append(w) #Adding the final weights into list"
      ]
    },
    {
      "cell_type": "code",
      "execution_count": 51,
      "metadata": {
        "colab": {
          "base_uri": "https://localhost:8080/",
          "height": 289
        },
        "id": "WUL3CxrUWFLu",
        "outputId": "38fbd134-d6e9-432f-c605-f57a766e33e7"
      },
      "outputs": [
        {
          "output_type": "display_data",
          "data": {
            "image/png": "[encoded data removed]",
            "text/plain": [
              "<Figure size 432x288 with 1 Axes>"
            ]
          },
          "metadata": {
            "needs_background": "light"
          }
        }
      ],
      "source": [
        "#Plotting training RMSE vs 1/lamda plot:\n",
        "plt.plot([1/lamda for lamda in lamda_values],Train_RMSE)\n",
        "plt.xlabel('1/lamda or model complexity')\n",
        "plt.ylabel('Training RMSE')\n",
        "plt.show()"
      ]
    },
    {
      "cell_type": "code",
      "execution_count": 52,
      "metadata": {
        "colab": {
          "base_uri": "https://localhost:8080/",
          "height": 289
        },
        "id": "rhmGaYFRWGK7",
        "outputId": "7aaddc14-79ac-4408-dccf-7cad541a52ba"
      },
      "outputs": [
        {
          "output_type": "display_data",
          "data": {
            "image/png": "[encoded data removed]",
            "text/plain": [
              "<Figure size 432x288 with 1 Axes>"
            ]
          },
          "metadata": {
            "needs_background": "light"
          }
        }
      ],
      "source": [
        "#Plotting training RMSE vs 1/lamda plot:\n",
        "plt.plot([1/lamda for lamda in lamda_values],Train_RMSE)\n",
        "plt.xlabel('1/lamda or model complexity')\n",
        "plt.ylabel('Training RMSE')\n",
        "plt.show()"
      ]
    },
    {
      "cell_type": "code",
      "source": [
        "#Plotting combined plot of RMSEs vs 1/lamda :\n",
        "plt.plot([1/lamda for lamda in lamda_values],Train_RMSE)\n",
        "plt.plot([1/lamda for lamda in lamda_values],Val_RMSE)\n",
        "plt.xlabel('1/lamda or model complexity')\n",
        "plt.ylabel('RMSE')\n",
        "plt.legend(['Train RMSE','Validation RMSE'])\n",
        "plt.show()"
      ],
      "metadata": {
        "colab": {
          "base_uri": "https://localhost:8080/",
          "height": 283
        },
        "id": "7AyZQRTddveo",
        "outputId": "551e0717-38a1-4365-da05-76d24b13889b"
      },
      "execution_count": 53,
      "outputs": [
        {
          "output_type": "display_data",
          "data": {
            "image/png": "[encoded data removed]",
            "text/plain": [
              "<Figure size 432x288 with 1 Axes>"
            ]
          },
          "metadata": {
            "needs_background": "light"
          }
        }
      ]
    },
    {
      "cell_type": "code",
      "source": [
        "Val_RMSE"
      ],
      "metadata": {
        "colab": {
          "base_uri": "https://localhost:8080/"
        },
        "id": "AebWoLkshJjs",
        "outputId": "1194d80c-c9d7-48f7-99a4-3e522b64c0de"
      },
      "execution_count": 54,
      "outputs": [
        {
          "output_type": "execute_result",
          "data": {
            "text/plain": [
              "[0.4880738772529533,\n",
              " 0.4881606099252087,\n",
              " 0.4882392390280085,\n",
              " 0.48824713184445734,\n",
              " 0.4882479214262872,\n",
              " 0.48824800038747335]"
            ]
          },
          "metadata": {},
          "execution_count": 54
        }
      ]
    },
    {
      "cell_type": "code",
      "source": [
        "Train_RMSE"
      ],
      "metadata": {
        "colab": {
          "base_uri": "https://localhost:8080/"
        },
        "id": "xr1uNMlzhNr5",
        "outputId": "89001ea2-7e81-4442-e923-5a690c4b782e"
      },
      "execution_count": 55,
      "outputs": [
        {
          "output_type": "execute_result",
          "data": {
            "text/plain": [
              "[0.4518242652934961,\n",
              " 0.4518237339474333,\n",
              " 0.45182355730376283,\n",
              " 0.4518235555283343,\n",
              " 0.45182355551057096,\n",
              " 0.4518235555103933]"
            ]
          },
          "metadata": {},
          "execution_count": 55
        }
      ]
    },
    {
      "cell_type": "markdown",
      "source": [
        "It is clear from the above plots and the lists of validation and train RMSE that the best lamda for pseudo inverse method among the given values of lamda is 0.0001 as we get the minimum training RMSE for lamda = 0.0001 . \n",
        "\n",
        "The weights, validation RMSE and validation NRMSE for the same are given in following cells:"
      ],
      "metadata": {
        "id": "uQ7Sa7Q1dw-l"
      }
    },
    {
      "cell_type": "code",
      "execution_count": 56,
      "metadata": {
        "colab": {
          "base_uri": "https://localhost:8080/"
        },
        "id": "5_xyX3Oba2k5",
        "outputId": "9331168b-8e5a-4489-f0fd-9d98ac2fc9a2"
      },
      "outputs": [
        {
          "output_type": "stream",
          "name": "stdout",
          "text": [
            "The weights for lamda = 0.0001 are : [ 0.12390215  0.02201961  0.18047647 -0.05146351  0.64864216  0.04183878\n",
            " -0.10932469  0.0871062  -0.13434915 -0.03926407 -0.06541825 -0.1085924\n",
            " -0.03232209  0.07619018 -0.00714663  0.00530631 -0.02844956 -0.0355254\n",
            " -0.08094203  0.09084592  0.03193756 -0.02778214]\n",
            "Validation RMSE: 0.48824800038747335\n",
            "Validation NRMSE: 0.3957954758526375\n"
          ]
        }
      ],
      "source": [
        "print(\"The weights for lamda = {} are : {}\".format(lamda_values[5],W_list[5]))\n",
        "print(\"Validation RMSE: {}\".format(Val_RMSE[5]))\n",
        "print(\"Validation NRMSE: {}\".format(Val_NRMSE[5]))"
      ]
    },
    {
      "cell_type": "code",
      "source": [
        "print('Validation RMSE list: ',Val_RMSE)"
      ],
      "metadata": {
        "colab": {
          "base_uri": "https://localhost:8080/"
        },
        "id": "I_7MThLSeGYc",
        "outputId": "ee13e5d2-e4cf-4871-fa60-7acfc957eaf6"
      },
      "execution_count": 57,
      "outputs": [
        {
          "output_type": "stream",
          "name": "stdout",
          "text": [
            "Validation RMSE list:  [0.4880738772529533, 0.4881606099252087, 0.4882392390280085, 0.48824713184445734, 0.4882479214262872, 0.48824800038747335]\n"
          ]
        }
      ]
    },
    {
      "cell_type": "markdown",
      "source": [
        "Q6. We observe that the best lamda for all the loss functions is lamda = 0.0001 , since validation and training RMSE are lowest for this value of lamda. \n",
        "Also both the validation and training RMSEs decrease with increasing the complexity of model i.e. decreasing the value of lamda.\n",
        "\n",
        "The validation RMSE are less than the training RMSE for L1 and L2 loss methods but the case is reverse in the case of the pseudpo inverse method."
      ],
      "metadata": {
        "id": "_90Cz87BesOP"
      }
    },
    {
      "cell_type": "markdown",
      "metadata": {
        "id": "ArlS4ctFbY7D"
      },
      "source": [
        "Q7."
      ]
    },
    {
      "cell_type": "code",
      "execution_count": 58,
      "metadata": {
        "id": "p3wchrUtbW9J"
      },
      "outputs": [],
      "source": [
        "test_df = pd.read_csv(\"https://www.ee.iitb.ac.in/~asethi/Dump/TempTest.csv\") #accessing the tes data set as a dataframe from the link"
      ]
    },
    {
      "cell_type": "code",
      "execution_count": 59,
      "metadata": {
        "id": "VMTOI7dMW1yW"
      },
      "outputs": [],
      "source": [
        "#Normalizing the test data\n",
        "for column in test_df.columns :\n",
        "  test_df[column] = (test_df[column]-test_df[column].mean())/test_df[column].std()"
      ]
    },
    {
      "cell_type": "code",
      "source": [
        "test_df = np.array(test_df) #Converting the dataframe into a numpy array for aplying all the functions defined in the part 1"
      ],
      "metadata": {
        "id": "KLtfQdZSHAyP"
      },
      "execution_count": 60,
      "outputs": []
    },
    {
      "cell_type": "markdown",
      "source": [
        "Since L1 loss method is best among all of the above three methods. So , we will use this method for the prediction in the test dataset."
      ],
      "metadata": {
        "id": "TPyOx270eNRT"
      }
    },
    {
      "cell_type": "code",
      "execution_count": 61,
      "metadata": {
        "id": "NIre2yqeXDnK"
      },
      "outputs": [],
      "source": [
        "w_final, train_loss_final, validation_loss_final, validation_NRMSE = Gradient_Descent(X_train, X_val, t_train, t_val, w, 0.0001, 1000, 1e-10, 1e-5, L1_Loss,L1_Gradient) #Using the gradient descent function with L1_Loss and L1_Gradient with best lamda = 0.0001\n",
        "w = w_final #Extracting the weight vector for which value of loss is minimium\n",
        "t_predicted = Prediction(test_df, w) #Predicting the value for t using the prediction function."
      ]
    },
    {
      "cell_type": "code",
      "source": [
        "t_df = pd.DataFrame(t_predicted) #Creating a data frame for the predicted values of t.\n",
        "t_df.columns = ['Next_Tmax'] #Writing the column name\n",
        "#t_df.to_csv('21i190003_21i190006_1.csv') #Storing the data of the dataframe into the named csv file"
      ],
      "metadata": {
        "id": "Clyv60ktGLlq"
      },
      "execution_count": 62,
      "outputs": []
    },
    {
      "cell_type": "code",
      "source": [
        "#The predicted data for the Validation data of best model. i.e. L1 Loss function\n",
        "t_pre = Prediction(X_val,w)"
      ],
      "metadata": {
        "id": "sm8gal6w3DGb"
      },
      "execution_count": 63,
      "outputs": []
    },
    {
      "cell_type": "code",
      "source": [
        "#Plotting the plot of predicted vs actual plot for the validation data for the best model (L1 model)\n",
        "plt.scatter(t_val,t_pre)\n",
        "plt.xlabel(\"Actual Validation data\")\n",
        "plt.ylabel(\"Predicted Validation data\")\n",
        "plt.title(\"Predicted vs Actual plot\")\n",
        "plt.show()\n"
      ],
      "metadata": {
        "colab": {
          "base_uri": "https://localhost:8080/",
          "height": 295
        },
        "id": "suDKXu1e3nM1",
        "outputId": "e9ac0747-e2ac-40eb-ffe2-3453296f2684"
      },
      "execution_count": 64,
      "outputs": [
        {
          "output_type": "display_data",
          "data": {
            "image/png": "[encoded data removed]",
            "text/plain": [
              "<Figure size 432x288 with 1 Axes>"
            ]
          },
          "metadata": {
            "needs_background": "light"
          }
        }
      ]
    },
    {
      "cell_type": "markdown",
      "source": [
        "R^2 value:"
      ],
      "metadata": {
        "id": "svsMzCXC_yrM"
      }
    },
    {
      "cell_type": "code",
      "source": [
        "corr_matrix = np.corrcoef(t_val,t_pre) #Finding the matrix showing correlation between validation t and predicted t.\n",
        "R_sq = (corr_matrix[0][1])**2 #Accessing the cross variance from the correlation matrix and then squaring it\n",
        "print('R^2 value: ',R_sq)"
      ],
      "metadata": {
        "colab": {
          "base_uri": "https://localhost:8080/"
        },
        "id": "rUv8asSb_1gx",
        "outputId": "a3d2a02e-079f-4307-ea41-df9b16a68f55"
      },
      "execution_count": 65,
      "outputs": [
        {
          "output_type": "stream",
          "name": "stdout",
          "text": [
            "R^2 value:  0.8576378542658991\n"
          ]
        }
      ]
    },
    {
      "cell_type": "markdown",
      "metadata": {
        "id": "bk7PYsdmpCiU"
      },
      "source": [
        "#**... Part 2 ends.**\n",
        "\n",
        "1. Write the name or roll no.s of friends from outside your group with whom you discussed the assignment here (no penalty for mere discussion without copying code): Abhishek Gupta(21i190005)\n",
        "2. Write the links of sources on the internet referred here (no penalty for mere consultation without copying code): 1.  https://www.askpython.com/python/examples/split-data-training-and-testing-set 2. https://www.askpython.com/python/coefficient-of-determination\n",
        "\n"
      ]
    }
  ],
  "metadata": {
    "colab": {
      "collapsed_sections": [],
      "name": "21i190003_21i190006_1.ipynb",
      "provenance": []
    },
    "kernelspec": {
      "display_name": "Python 3",
      "language": "python",
      "name": "python3"
    },
    "language_info": {
      "codemirror_mode": {
        "name": "ipython",
        "version": 3
      },
      "file_extension": ".py",
      "mimetype": "text/x-python",
      "name": "python",
      "nbconvert_exporter": "python",
      "pygments_lexer": "ipython3",
      "version": "3.8.3"
    }
  },
  "nbformat": 4,
  "nbformat_minor": 0
}