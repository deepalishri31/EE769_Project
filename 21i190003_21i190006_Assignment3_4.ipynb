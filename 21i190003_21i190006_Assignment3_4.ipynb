{
  "nbformat": 4,
  "nbformat_minor": 0,
  "metadata": {
    "colab": {
      "name": "21i190003_21i190006_4.ipynb",
      "provenance": []
    },
    "kernelspec": {
      "name": "python3",
      "display_name": "Python 3"
    },
    "language_info": {
      "name": "python"
    }
  },
  "cells": [
    {
      "cell_type": "code",
      "execution_count": 28,
      "metadata": {
        "id": "WDYa80m8b-94"
      },
      "outputs": [],
      "source": [
        "import pandas as pd\n",
        "import numpy as np\n",
        "import seaborn as sns #Importing required packages"
      ]
    },
    {
      "cell_type": "code",
      "source": [
        "data = pd.read_csv('https://www.ee.iitb.ac.in/~asethi/Dump/DataKPCA.csv') #Loading the data"
      ],
      "metadata": {
        "id": "_PjxmBAXAdIb"
      },
      "execution_count": 29,
      "outputs": []
    },
    {
      "cell_type": "code",
      "source": [
        "data #Checking with the loaded data set"
      ],
      "metadata": {
        "colab": {
          "base_uri": "https://localhost:8080/",
          "height": 423
        },
        "id": "DiV7Aph_AgnD",
        "outputId": "f7486c31-47da-4de2-ff28-e7809cc36f44"
      },
      "execution_count": 30,
      "outputs": [
        {
          "output_type": "execute_result",
          "data": {
            "text/plain": [
              "           x1         x2         x3         x4        x5        x6        x7\n",
              "0    2.596641  15.263178 -46.289607 -10.993265 -2.266729  1.935832  2.039688\n",
              "1    3.096286  14.784802 -48.175614  -8.799362 -2.220871  1.851201  1.921974\n",
              "2    3.360246  14.774917 -49.471841  -9.030501 -1.760447  1.753114  2.041933\n",
              "3    2.214819  15.027394 -43.200400 -13.565001 -2.643018  2.200463  2.141847\n",
              "4    3.398576  15.115756 -49.416644  -6.857672 -2.025936  1.788085  1.875540\n",
              "..        ...        ...        ...        ...       ...       ...       ...\n",
              "185  2.647090  14.246231 -44.947807 -10.412540 -2.809695  2.084152  1.903990\n",
              "186  2.677908  14.620351 -45.776334 -10.196029 -2.640178  2.038005  1.910832\n",
              "187  3.543866  14.487241 -49.692284  -7.773038 -1.865513  1.752195  1.952922\n",
              "188  3.563404  13.945495 -49.131439  -8.156546 -2.104684  1.773425  1.914397\n",
              "189  3.718648  13.810806 -49.414929  -7.661211 -2.154060  1.773895  1.901090\n",
              "\n",
              "[190 rows x 7 columns]"
            ],
            "text/html": [
              "\n",
              "  <div id=\"df-8567bc3d-f3b1-4677-afe8-d0ab81d8c311\">\n",
              "    <div class=\"colab-df-container\">\n",
              "      <div>\n",
              "<style scoped>\n",
              "    .dataframe tbody tr th:only-of-type {\n",
              "        vertical-align: middle;\n",
              "    }\n",
              "\n",
              "    .dataframe tbody tr th {\n",
              "        vertical-align: top;\n",
              "    }\n",
              "\n",
              "    .dataframe thead th {\n",
              "        text-align: right;\n",
              "    }\n",
              "</style>\n",
              "<table border=\"1\" class=\"dataframe\">\n",
              "  <thead>\n",
              "    <tr style=\"text-align: right;\">\n",
              "      <th></th>\n",
              "      <th>x1</th>\n",
              "      <th>x2</th>\n",
              "      <th>x3</th>\n",
              "      <th>x4</th>\n",
              "      <th>x5</th>\n",
              "      <th>x6</th>\n",
              "      <th>x7</th>\n",
              "    </tr>\n",
              "  </thead>\n",
              "  <tbody>\n",
              "    <tr>\n",
              "      <th>0</th>\n",
              "      <td>2.596641</td>\n",
              "      <td>15.263178</td>\n",
              "      <td>-46.289607</td>\n",
              "      <td>-10.993265</td>\n",
              "      <td>-2.266729</td>\n",
              "      <td>1.935832</td>\n",
              "      <td>2.039688</td>\n",
              "    </tr>\n",
              "    <tr>\n",
              "      <th>1</th>\n",
              "      <td>3.096286</td>\n",
              "      <td>14.784802</td>\n",
              "      <td>-48.175614</td>\n",
              "      <td>-8.799362</td>\n",
              "      <td>-2.220871</td>\n",
              "      <td>1.851201</td>\n",
              "      <td>1.921974</td>\n",
              "    </tr>\n",
              "    <tr>\n",
              "      <th>2</th>\n",
              "      <td>3.360246</td>\n",
              "      <td>14.774917</td>\n",
              "      <td>-49.471841</td>\n",
              "      <td>-9.030501</td>\n",
              "      <td>-1.760447</td>\n",
              "      <td>1.753114</td>\n",
              "      <td>2.041933</td>\n",
              "    </tr>\n",
              "    <tr>\n",
              "      <th>3</th>\n",
              "      <td>2.214819</td>\n",
              "      <td>15.027394</td>\n",
              "      <td>-43.200400</td>\n",
              "      <td>-13.565001</td>\n",
              "      <td>-2.643018</td>\n",
              "      <td>2.200463</td>\n",
              "      <td>2.141847</td>\n",
              "    </tr>\n",
              "    <tr>\n",
              "      <th>4</th>\n",
              "      <td>3.398576</td>\n",
              "      <td>15.115756</td>\n",
              "      <td>-49.416644</td>\n",
              "      <td>-6.857672</td>\n",
              "      <td>-2.025936</td>\n",
              "      <td>1.788085</td>\n",
              "      <td>1.875540</td>\n",
              "    </tr>\n",
              "    <tr>\n",
              "      <th>...</th>\n",
              "      <td>...</td>\n",
              "      <td>...</td>\n",
              "      <td>...</td>\n",
              "      <td>...</td>\n",
              "      <td>...</td>\n",
              "      <td>...</td>\n",
              "      <td>...</td>\n",
              "    </tr>\n",
              "    <tr>\n",
              "      <th>185</th>\n",
              "      <td>2.647090</td>\n",
              "      <td>14.246231</td>\n",
              "      <td>-44.947807</td>\n",
              "      <td>-10.412540</td>\n",
              "      <td>-2.809695</td>\n",
              "      <td>2.084152</td>\n",
              "      <td>1.903990</td>\n",
              "    </tr>\n",
              "    <tr>\n",
              "      <th>186</th>\n",
              "      <td>2.677908</td>\n",
              "      <td>14.620351</td>\n",
              "      <td>-45.776334</td>\n",
              "      <td>-10.196029</td>\n",
              "      <td>-2.640178</td>\n",
              "      <td>2.038005</td>\n",
              "      <td>1.910832</td>\n",
              "    </tr>\n",
              "    <tr>\n",
              "      <th>187</th>\n",
              "      <td>3.543866</td>\n",
              "      <td>14.487241</td>\n",
              "      <td>-49.692284</td>\n",
              "      <td>-7.773038</td>\n",
              "      <td>-1.865513</td>\n",
              "      <td>1.752195</td>\n",
              "      <td>1.952922</td>\n",
              "    </tr>\n",
              "    <tr>\n",
              "      <th>188</th>\n",
              "      <td>3.563404</td>\n",
              "      <td>13.945495</td>\n",
              "      <td>-49.131439</td>\n",
              "      <td>-8.156546</td>\n",
              "      <td>-2.104684</td>\n",
              "      <td>1.773425</td>\n",
              "      <td>1.914397</td>\n",
              "    </tr>\n",
              "    <tr>\n",
              "      <th>189</th>\n",
              "      <td>3.718648</td>\n",
              "      <td>13.810806</td>\n",
              "      <td>-49.414929</td>\n",
              "      <td>-7.661211</td>\n",
              "      <td>-2.154060</td>\n",
              "      <td>1.773895</td>\n",
              "      <td>1.901090</td>\n",
              "    </tr>\n",
              "  </tbody>\n",
              "</table>\n",
              "<p>190 rows × 7 columns</p>\n",
              "</div>\n",
              "      <button class=\"colab-df-convert\" onclick=\"convertToInteractive('df-8567bc3d-f3b1-4677-afe8-d0ab81d8c311')\"\n",
              "              title=\"Convert this dataframe to an interactive table.\"\n",
              "              style=\"display:none;\">\n",
              "        \n",
              "  <svg xmlns=\"http://www.w3.org/2000/svg\" height=\"24px\"viewBox=\"0 0 24 24\"\n",
              "       width=\"24px\">\n",
              "    <path d=\"M0 0h24v24H0V0z\" fill=\"none\"/>\n",
              "    <path d=\"M18.56 5.44l.94 2.06.94-2.06 2.06-.94-2.06-.94-.94-2.06-.94 2.06-2.06.94zm-11 1L8.5 8.5l.94-2.06 2.06-.94-2.06-.94L8.5 2.5l-.94 2.06-2.06.94zm10 10l.94 2.06.94-2.06 2.06-.94-2.06-.94-.94-2.06-.94 2.06-2.06.94z\"/><path d=\"M17.41 7.96l-1.37-1.37c-.4-.4-.92-.59-1.43-.59-.52 0-1.04.2-1.43.59L10.3 9.45l-7.72 7.72c-.78.78-.78 2.05 0 2.83L4 21.41c.39.39.9.59 1.41.59.51 0 1.02-.2 1.41-.59l7.78-7.78 2.81-2.81c.8-.78.8-2.07 0-2.86zM5.41 20L4 18.59l7.72-7.72 1.47 1.35L5.41 20z\"/>\n",
              "  </svg>\n",
              "      </button>\n",
              "      \n",
              "  <style>\n",
              "    .colab-df-container {\n",
              "      display:flex;\n",
              "      flex-wrap:wrap;\n",
              "      gap: 12px;\n",
              "    }\n",
              "\n",
              "    .colab-df-convert {\n",
              "      background-color: #E8F0FE;\n",
              "      border: none;\n",
              "      border-radius: 50%;\n",
              "      cursor: pointer;\n",
              "      display: none;\n",
              "      fill: #1967D2;\n",
              "      height: 32px;\n",
              "      padding: 0 0 0 0;\n",
              "      width: 32px;\n",
              "    }\n",
              "\n",
              "    .colab-df-convert:hover {\n",
              "      background-color: #E2EBFA;\n",
              "      box-shadow: 0px 1px 2px rgba(60, 64, 67, 0.3), 0px 1px 3px 1px rgba(60, 64, 67, 0.15);\n",
              "      fill: #174EA6;\n",
              "    }\n",
              "\n",
              "    [theme=dark] .colab-df-convert {\n",
              "      background-color: #3B4455;\n",
              "      fill: #D2E3FC;\n",
              "    }\n",
              "\n",
              "    [theme=dark] .colab-df-convert:hover {\n",
              "      background-color: #434B5C;\n",
              "      box-shadow: 0px 1px 3px 1px rgba(0, 0, 0, 0.15);\n",
              "      filter: drop-shadow(0px 1px 2px rgba(0, 0, 0, 0.3));\n",
              "      fill: #FFFFFF;\n",
              "    }\n",
              "  </style>\n",
              "\n",
              "      <script>\n",
              "        const buttonEl =\n",
              "          document.querySelector('#df-8567bc3d-f3b1-4677-afe8-d0ab81d8c311 button.colab-df-convert');\n",
              "        buttonEl.style.display =\n",
              "          google.colab.kernel.accessAllowed ? 'block' : 'none';\n",
              "\n",
              "        async function convertToInteractive(key) {\n",
              "          const element = document.querySelector('#df-8567bc3d-f3b1-4677-afe8-d0ab81d8c311');\n",
              "          const dataTable =\n",
              "            await google.colab.kernel.invokeFunction('convertToInteractive',\n",
              "                                                     [key], {});\n",
              "          if (!dataTable) return;\n",
              "\n",
              "          const docLinkHtml = 'Like what you see? Visit the ' +\n",
              "            '<a target=\"_blank\" href=https://colab.research.google.com/notebooks/data_table.ipynb>data table notebook</a>'\n",
              "            + ' to learn more about interactive tables.';\n",
              "          element.innerHTML = '';\n",
              "          dataTable['output_type'] = 'display_data';\n",
              "          await google.colab.output.renderOutput(dataTable, element);\n",
              "          const docLink = document.createElement('div');\n",
              "          docLink.innerHTML = docLinkHtml;\n",
              "          element.appendChild(docLink);\n",
              "        }\n",
              "      </script>\n",
              "    </div>\n",
              "  </div>\n",
              "  "
            ]
          },
          "metadata": {},
          "execution_count": 30
        }
      ]
    },
    {
      "cell_type": "code",
      "source": [
        "data.describe() #Features or characteristic of data"
      ],
      "metadata": {
        "colab": {
          "base_uri": "https://localhost:8080/",
          "height": 300
        },
        "id": "Mf4SKnZaApT1",
        "outputId": "5798bb3e-fbce-43e8-e860-8c1695552839"
      },
      "execution_count": 31,
      "outputs": [
        {
          "output_type": "execute_result",
          "data": {
            "text/plain": [
              "               x1          x2          x3          x4          x5          x6  \\\n",
              "count  190.000000  190.000000  190.000000  190.000000  190.000000  190.000000   \n",
              "mean     3.121555   14.985682  -47.909555   -8.811677   -2.175834    1.893953   \n",
              "std      0.589013    1.298751    2.459375    2.337179    0.505819    0.159647   \n",
              "min      1.964315   11.577329  -52.837231  -14.068488   -3.613443    1.750006   \n",
              "25%      2.679532   14.087484  -49.736194  -10.392405   -2.512570    1.773690   \n",
              "50%      3.039420   14.943396  -48.185549   -9.045948   -2.156469    1.852369   \n",
              "75%      3.489341   15.764749  -46.405402   -7.235609   -1.828925    1.954614   \n",
              "max      4.820967   18.747792  -40.772554   -1.907331   -0.972995    2.580983   \n",
              "\n",
              "               x7  \n",
              "count  190.000000  \n",
              "mean     1.958302  \n",
              "std      0.108756  \n",
              "min      1.761394  \n",
              "25%      1.880257  \n",
              "50%      1.942348  \n",
              "75%      2.018826  \n",
              "max      2.332842  "
            ],
            "text/html": [
              "\n",
              "  <div id=\"df-4b6638c7-b8d4-43a8-8593-5552c820bfc2\">\n",
              "    <div class=\"colab-df-container\">\n",
              "      <div>\n",
              "<style scoped>\n",
              "    .dataframe tbody tr th:only-of-type {\n",
              "        vertical-align: middle;\n",
              "    }\n",
              "\n",
              "    .dataframe tbody tr th {\n",
              "        vertical-align: top;\n",
              "    }\n",
              "\n",
              "    .dataframe thead th {\n",
              "        text-align: right;\n",
              "    }\n",
              "</style>\n",
              "<table border=\"1\" class=\"dataframe\">\n",
              "  <thead>\n",
              "    <tr style=\"text-align: right;\">\n",
              "      <th></th>\n",
              "      <th>x1</th>\n",
              "      <th>x2</th>\n",
              "      <th>x3</th>\n",
              "      <th>x4</th>\n",
              "      <th>x5</th>\n",
              "      <th>x6</th>\n",
              "      <th>x7</th>\n",
              "    </tr>\n",
              "  </thead>\n",
              "  <tbody>\n",
              "    <tr>\n",
              "      <th>count</th>\n",
              "      <td>190.000000</td>\n",
              "      <td>190.000000</td>\n",
              "      <td>190.000000</td>\n",
              "      <td>190.000000</td>\n",
              "      <td>190.000000</td>\n",
              "      <td>190.000000</td>\n",
              "      <td>190.000000</td>\n",
              "    </tr>\n",
              "    <tr>\n",
              "      <th>mean</th>\n",
              "      <td>3.121555</td>\n",
              "      <td>14.985682</td>\n",
              "      <td>-47.909555</td>\n",
              "      <td>-8.811677</td>\n",
              "      <td>-2.175834</td>\n",
              "      <td>1.893953</td>\n",
              "      <td>1.958302</td>\n",
              "    </tr>\n",
              "    <tr>\n",
              "      <th>std</th>\n",
              "      <td>0.589013</td>\n",
              "      <td>1.298751</td>\n",
              "      <td>2.459375</td>\n",
              "      <td>2.337179</td>\n",
              "      <td>0.505819</td>\n",
              "      <td>0.159647</td>\n",
              "      <td>0.108756</td>\n",
              "    </tr>\n",
              "    <tr>\n",
              "      <th>min</th>\n",
              "      <td>1.964315</td>\n",
              "      <td>11.577329</td>\n",
              "      <td>-52.837231</td>\n",
              "      <td>-14.068488</td>\n",
              "      <td>-3.613443</td>\n",
              "      <td>1.750006</td>\n",
              "      <td>1.761394</td>\n",
              "    </tr>\n",
              "    <tr>\n",
              "      <th>25%</th>\n",
              "      <td>2.679532</td>\n",
              "      <td>14.087484</td>\n",
              "      <td>-49.736194</td>\n",
              "      <td>-10.392405</td>\n",
              "      <td>-2.512570</td>\n",
              "      <td>1.773690</td>\n",
              "      <td>1.880257</td>\n",
              "    </tr>\n",
              "    <tr>\n",
              "      <th>50%</th>\n",
              "      <td>3.039420</td>\n",
              "      <td>14.943396</td>\n",
              "      <td>-48.185549</td>\n",
              "      <td>-9.045948</td>\n",
              "      <td>-2.156469</td>\n",
              "      <td>1.852369</td>\n",
              "      <td>1.942348</td>\n",
              "    </tr>\n",
              "    <tr>\n",
              "      <th>75%</th>\n",
              "      <td>3.489341</td>\n",
              "      <td>15.764749</td>\n",
              "      <td>-46.405402</td>\n",
              "      <td>-7.235609</td>\n",
              "      <td>-1.828925</td>\n",
              "      <td>1.954614</td>\n",
              "      <td>2.018826</td>\n",
              "    </tr>\n",
              "    <tr>\n",
              "      <th>max</th>\n",
              "      <td>4.820967</td>\n",
              "      <td>18.747792</td>\n",
              "      <td>-40.772554</td>\n",
              "      <td>-1.907331</td>\n",
              "      <td>-0.972995</td>\n",
              "      <td>2.580983</td>\n",
              "      <td>2.332842</td>\n",
              "    </tr>\n",
              "  </tbody>\n",
              "</table>\n",
              "</div>\n",
              "      <button class=\"colab-df-convert\" onclick=\"convertToInteractive('df-4b6638c7-b8d4-43a8-8593-5552c820bfc2')\"\n",
              "              title=\"Convert this dataframe to an interactive table.\"\n",
              "              style=\"display:none;\">\n",
              "        \n",
              "  <svg xmlns=\"http://www.w3.org/2000/svg\" height=\"24px\"viewBox=\"0 0 24 24\"\n",
              "       width=\"24px\">\n",
              "    <path d=\"M0 0h24v24H0V0z\" fill=\"none\"/>\n",
              "    <path d=\"M18.56 5.44l.94 2.06.94-2.06 2.06-.94-2.06-.94-.94-2.06-.94 2.06-2.06.94zm-11 1L8.5 8.5l.94-2.06 2.06-.94-2.06-.94L8.5 2.5l-.94 2.06-2.06.94zm10 10l.94 2.06.94-2.06 2.06-.94-2.06-.94-.94-2.06-.94 2.06-2.06.94z\"/><path d=\"M17.41 7.96l-1.37-1.37c-.4-.4-.92-.59-1.43-.59-.52 0-1.04.2-1.43.59L10.3 9.45l-7.72 7.72c-.78.78-.78 2.05 0 2.83L4 21.41c.39.39.9.59 1.41.59.51 0 1.02-.2 1.41-.59l7.78-7.78 2.81-2.81c.8-.78.8-2.07 0-2.86zM5.41 20L4 18.59l7.72-7.72 1.47 1.35L5.41 20z\"/>\n",
              "  </svg>\n",
              "      </button>\n",
              "      \n",
              "  <style>\n",
              "    .colab-df-container {\n",
              "      display:flex;\n",
              "      flex-wrap:wrap;\n",
              "      gap: 12px;\n",
              "    }\n",
              "\n",
              "    .colab-df-convert {\n",
              "      background-color: #E8F0FE;\n",
              "      border: none;\n",
              "      border-radius: 50%;\n",
              "      cursor: pointer;\n",
              "      display: none;\n",
              "      fill: #1967D2;\n",
              "      height: 32px;\n",
              "      padding: 0 0 0 0;\n",
              "      width: 32px;\n",
              "    }\n",
              "\n",
              "    .colab-df-convert:hover {\n",
              "      background-color: #E2EBFA;\n",
              "      box-shadow: 0px 1px 2px rgba(60, 64, 67, 0.3), 0px 1px 3px 1px rgba(60, 64, 67, 0.15);\n",
              "      fill: #174EA6;\n",
              "    }\n",
              "\n",
              "    [theme=dark] .colab-df-convert {\n",
              "      background-color: #3B4455;\n",
              "      fill: #D2E3FC;\n",
              "    }\n",
              "\n",
              "    [theme=dark] .colab-df-convert:hover {\n",
              "      background-color: #434B5C;\n",
              "      box-shadow: 0px 1px 3px 1px rgba(0, 0, 0, 0.15);\n",
              "      filter: drop-shadow(0px 1px 2px rgba(0, 0, 0, 0.3));\n",
              "      fill: #FFFFFF;\n",
              "    }\n",
              "  </style>\n",
              "\n",
              "      <script>\n",
              "        const buttonEl =\n",
              "          document.querySelector('#df-4b6638c7-b8d4-43a8-8593-5552c820bfc2 button.colab-df-convert');\n",
              "        buttonEl.style.display =\n",
              "          google.colab.kernel.accessAllowed ? 'block' : 'none';\n",
              "\n",
              "        async function convertToInteractive(key) {\n",
              "          const element = document.querySelector('#df-4b6638c7-b8d4-43a8-8593-5552c820bfc2');\n",
              "          const dataTable =\n",
              "            await google.colab.kernel.invokeFunction('convertToInteractive',\n",
              "                                                     [key], {});\n",
              "          if (!dataTable) return;\n",
              "\n",
              "          const docLinkHtml = 'Like what you see? Visit the ' +\n",
              "            '<a target=\"_blank\" href=https://colab.research.google.com/notebooks/data_table.ipynb>data table notebook</a>'\n",
              "            + ' to learn more about interactive tables.';\n",
              "          element.innerHTML = '';\n",
              "          dataTable['output_type'] = 'display_data';\n",
              "          await google.colab.output.renderOutput(dataTable, element);\n",
              "          const docLink = document.createElement('div');\n",
              "          docLink.innerHTML = docLinkHtml;\n",
              "          element.appendChild(docLink);\n",
              "        }\n",
              "      </script>\n",
              "    </div>\n",
              "  </div>\n",
              "  "
            ]
          },
          "metadata": {},
          "execution_count": 31
        }
      ]
    },
    {
      "cell_type": "code",
      "source": [
        "data.corr() #Correlation matrix of the data set"
      ],
      "metadata": {
        "colab": {
          "base_uri": "https://localhost:8080/",
          "height": 269
        },
        "id": "R4Z9z7eLAuYS",
        "outputId": "45955780-898b-4406-d4ed-929d9a145fd0"
      },
      "execution_count": 32,
      "outputs": [
        {
          "output_type": "execute_result",
          "data": {
            "text/plain": [
              "          x1        x2        x3        x4        x5        x6        x7\n",
              "x1  1.000000 -0.192768 -0.815308  0.924728  0.444921 -0.617167 -0.567600\n",
              "x2 -0.192768  1.000000 -0.333149  0.028781  0.699611 -0.178769  0.564269\n",
              "x3 -0.815308 -0.333149  1.000000 -0.862548 -0.831090  0.828093  0.204812\n",
              "x4  0.924728  0.028781 -0.862548  1.000000  0.520445 -0.633372 -0.603537\n",
              "x5  0.444921  0.699611 -0.831090  0.520445  1.000000 -0.737043  0.330256\n",
              "x6 -0.617167 -0.178769  0.828093 -0.633372 -0.737043  1.000000  0.034170\n",
              "x7 -0.567600  0.564269  0.204812 -0.603537  0.330256  0.034170  1.000000"
            ],
            "text/html": [
              "\n",
              "  <div id=\"df-5ae1f028-b8b2-48c7-973d-673a6a0d2056\">\n",
              "    <div class=\"colab-df-container\">\n",
              "      <div>\n",
              "<style scoped>\n",
              "    .dataframe tbody tr th:only-of-type {\n",
              "        vertical-align: middle;\n",
              "    }\n",
              "\n",
              "    .dataframe tbody tr th {\n",
              "        vertical-align: top;\n",
              "    }\n",
              "\n",
              "    .dataframe thead th {\n",
              "        text-align: right;\n",
              "    }\n",
              "</style>\n",
              "<table border=\"1\" class=\"dataframe\">\n",
              "  <thead>\n",
              "    <tr style=\"text-align: right;\">\n",
              "      <th></th>\n",
              "      <th>x1</th>\n",
              "      <th>x2</th>\n",
              "      <th>x3</th>\n",
              "      <th>x4</th>\n",
              "      <th>x5</th>\n",
              "      <th>x6</th>\n",
              "      <th>x7</th>\n",
              "    </tr>\n",
              "  </thead>\n",
              "  <tbody>\n",
              "    <tr>\n",
              "      <th>x1</th>\n",
              "      <td>1.000000</td>\n",
              "      <td>-0.192768</td>\n",
              "      <td>-0.815308</td>\n",
              "      <td>0.924728</td>\n",
              "      <td>0.444921</td>\n",
              "      <td>-0.617167</td>\n",
              "      <td>-0.567600</td>\n",
              "    </tr>\n",
              "    <tr>\n",
              "      <th>x2</th>\n",
              "      <td>-0.192768</td>\n",
              "      <td>1.000000</td>\n",
              "      <td>-0.333149</td>\n",
              "      <td>0.028781</td>\n",
              "      <td>0.699611</td>\n",
              "      <td>-0.178769</td>\n",
              "      <td>0.564269</td>\n",
              "    </tr>\n",
              "    <tr>\n",
              "      <th>x3</th>\n",
              "      <td>-0.815308</td>\n",
              "      <td>-0.333149</td>\n",
              "      <td>1.000000</td>\n",
              "      <td>-0.862548</td>\n",
              "      <td>-0.831090</td>\n",
              "      <td>0.828093</td>\n",
              "      <td>0.204812</td>\n",
              "    </tr>\n",
              "    <tr>\n",
              "      <th>x4</th>\n",
              "      <td>0.924728</td>\n",
              "      <td>0.028781</td>\n",
              "      <td>-0.862548</td>\n",
              "      <td>1.000000</td>\n",
              "      <td>0.520445</td>\n",
              "      <td>-0.633372</td>\n",
              "      <td>-0.603537</td>\n",
              "    </tr>\n",
              "    <tr>\n",
              "      <th>x5</th>\n",
              "      <td>0.444921</td>\n",
              "      <td>0.699611</td>\n",
              "      <td>-0.831090</td>\n",
              "      <td>0.520445</td>\n",
              "      <td>1.000000</td>\n",
              "      <td>-0.737043</td>\n",
              "      <td>0.330256</td>\n",
              "    </tr>\n",
              "    <tr>\n",
              "      <th>x6</th>\n",
              "      <td>-0.617167</td>\n",
              "      <td>-0.178769</td>\n",
              "      <td>0.828093</td>\n",
              "      <td>-0.633372</td>\n",
              "      <td>-0.737043</td>\n",
              "      <td>1.000000</td>\n",
              "      <td>0.034170</td>\n",
              "    </tr>\n",
              "    <tr>\n",
              "      <th>x7</th>\n",
              "      <td>-0.567600</td>\n",
              "      <td>0.564269</td>\n",
              "      <td>0.204812</td>\n",
              "      <td>-0.603537</td>\n",
              "      <td>0.330256</td>\n",
              "      <td>0.034170</td>\n",
              "      <td>1.000000</td>\n",
              "    </tr>\n",
              "  </tbody>\n",
              "</table>\n",
              "</div>\n",
              "      <button class=\"colab-df-convert\" onclick=\"convertToInteractive('df-5ae1f028-b8b2-48c7-973d-673a6a0d2056')\"\n",
              "              title=\"Convert this dataframe to an interactive table.\"\n",
              "              style=\"display:none;\">\n",
              "        \n",
              "  <svg xmlns=\"http://www.w3.org/2000/svg\" height=\"24px\"viewBox=\"0 0 24 24\"\n",
              "       width=\"24px\">\n",
              "    <path d=\"M0 0h24v24H0V0z\" fill=\"none\"/>\n",
              "    <path d=\"M18.56 5.44l.94 2.06.94-2.06 2.06-.94-2.06-.94-.94-2.06-.94 2.06-2.06.94zm-11 1L8.5 8.5l.94-2.06 2.06-.94-2.06-.94L8.5 2.5l-.94 2.06-2.06.94zm10 10l.94 2.06.94-2.06 2.06-.94-2.06-.94-.94-2.06-.94 2.06-2.06.94z\"/><path d=\"M17.41 7.96l-1.37-1.37c-.4-.4-.92-.59-1.43-.59-.52 0-1.04.2-1.43.59L10.3 9.45l-7.72 7.72c-.78.78-.78 2.05 0 2.83L4 21.41c.39.39.9.59 1.41.59.51 0 1.02-.2 1.41-.59l7.78-7.78 2.81-2.81c.8-.78.8-2.07 0-2.86zM5.41 20L4 18.59l7.72-7.72 1.47 1.35L5.41 20z\"/>\n",
              "  </svg>\n",
              "      </button>\n",
              "      \n",
              "  <style>\n",
              "    .colab-df-container {\n",
              "      display:flex;\n",
              "      flex-wrap:wrap;\n",
              "      gap: 12px;\n",
              "    }\n",
              "\n",
              "    .colab-df-convert {\n",
              "      background-color: #E8F0FE;\n",
              "      border: none;\n",
              "      border-radius: 50%;\n",
              "      cursor: pointer;\n",
              "      display: none;\n",
              "      fill: #1967D2;\n",
              "      height: 32px;\n",
              "      padding: 0 0 0 0;\n",
              "      width: 32px;\n",
              "    }\n",
              "\n",
              "    .colab-df-convert:hover {\n",
              "      background-color: #E2EBFA;\n",
              "      box-shadow: 0px 1px 2px rgba(60, 64, 67, 0.3), 0px 1px 3px 1px rgba(60, 64, 67, 0.15);\n",
              "      fill: #174EA6;\n",
              "    }\n",
              "\n",
              "    [theme=dark] .colab-df-convert {\n",
              "      background-color: #3B4455;\n",
              "      fill: #D2E3FC;\n",
              "    }\n",
              "\n",
              "    [theme=dark] .colab-df-convert:hover {\n",
              "      background-color: #434B5C;\n",
              "      box-shadow: 0px 1px 3px 1px rgba(0, 0, 0, 0.15);\n",
              "      filter: drop-shadow(0px 1px 2px rgba(0, 0, 0, 0.3));\n",
              "      fill: #FFFFFF;\n",
              "    }\n",
              "  </style>\n",
              "\n",
              "      <script>\n",
              "        const buttonEl =\n",
              "          document.querySelector('#df-5ae1f028-b8b2-48c7-973d-673a6a0d2056 button.colab-df-convert');\n",
              "        buttonEl.style.display =\n",
              "          google.colab.kernel.accessAllowed ? 'block' : 'none';\n",
              "\n",
              "        async function convertToInteractive(key) {\n",
              "          const element = document.querySelector('#df-5ae1f028-b8b2-48c7-973d-673a6a0d2056');\n",
              "          const dataTable =\n",
              "            await google.colab.kernel.invokeFunction('convertToInteractive',\n",
              "                                                     [key], {});\n",
              "          if (!dataTable) return;\n",
              "\n",
              "          const docLinkHtml = 'Like what you see? Visit the ' +\n",
              "            '<a target=\"_blank\" href=https://colab.research.google.com/notebooks/data_table.ipynb>data table notebook</a>'\n",
              "            + ' to learn more about interactive tables.';\n",
              "          element.innerHTML = '';\n",
              "          dataTable['output_type'] = 'display_data';\n",
              "          await google.colab.output.renderOutput(dataTable, element);\n",
              "          const docLink = document.createElement('div');\n",
              "          docLink.innerHTML = docLinkHtml;\n",
              "          element.appendChild(docLink);\n",
              "        }\n",
              "      </script>\n",
              "    </div>\n",
              "  </div>\n",
              "  "
            ]
          },
          "metadata": {},
          "execution_count": 32
        }
      ]
    },
    {
      "cell_type": "code",
      "source": [
        "import matplotlib.pyplot as plt # For plotting the plots\n",
        "for column in data.columns.values:\n",
        "  sns.histplot(data[column],kde=True) #For plotting histogram, kde will estimate the data distribution as a smooth curve\n",
        "  plt.show()"
      ],
      "metadata": {
        "colab": {
          "base_uri": "https://localhost:8080/",
          "height": 1000
        },
        "id": "SLsHRsN87amX",
        "outputId": "60ade441-ca62-4eb5-b14b-d83667f9b67a"
      },
      "execution_count": 33,
      "outputs": [
        {
          "output_type": "display_data",
          "data": {
            "text/plain": [
              "<Figure size 432x288 with 1 Axes>"
            ],
            "image/png": "[encoded data removed]"
          },
          "metadata": {
            "needs_background": "light"
          }
        },
        {
          "output_type": "display_data",
          "data": {
            "text/plain": [
              "<Figure size 432x288 with 1 Axes>"
            ],
            "image/png": "[encoded data removed]"
          },
          "metadata": {
            "needs_background": "light"
          }
        },
        {
          "output_type": "display_data",
          "data": {
            "text/plain": [
              "<Figure size 432x288 with 1 Axes>"
            ],
            "image/png": "[encoded data removed]"
          },
          "metadata": {
            "needs_background": "light"
          }
        },
        {
          "output_type": "display_data",
          "data": {
            "text/plain": [
              "<Figure size 432x288 with 1 Axes>"
            ],
            "image/png": "[encoded data removed]"
          },
          "metadata": {
            "needs_background": "light"
          }
        },
        {
          "output_type": "display_data",
          "data": {
            "text/plain": [
              "<Figure size 432x288 with 1 Axes>"
            ],
            "image/png": "[encoded data removed]"
          },
          "metadata": {
            "needs_background": "light"
          }
        },
        {
          "output_type": "display_data",
          "data": {
            "text/plain": [
              "<Figure size 432x288 with 1 Axes>"
            ],
            "image/png": "[encoded data removed]"
          },
          "metadata": {
            "needs_background": "light"
          }
        },
        {
          "output_type": "display_data",
          "data": {
            "text/plain": [
              "<Figure size 432x288 with 1 Axes>"
            ],
            "image/png": "[encoded data removed]"
          },
          "metadata": {
            "needs_background": "light"
          }
        }
      ]
    },
    {
      "cell_type": "code",
      "source": [
        "sns.heatmap(data, annot = True) #For plotting the heatmap"
      ],
      "metadata": {
        "colab": {
          "base_uri": "https://localhost:8080/",
          "height": 287
        },
        "id": "Pn7rVh_WgT5Q",
        "outputId": "3d5ef809-5c92-4953-8351-492a40f87e28"
      },
      "execution_count": 34,
      "outputs": [
        {
          "output_type": "execute_result",
          "data": {
            "text/plain": [
              "<matplotlib.axes._subplots.AxesSubplot at 0x7fa629e41ed0>"
            ]
          },
          "metadata": {},
          "execution_count": 34
        },
        {
          "output_type": "display_data",
          "data": {
            "text/plain": [
              "<Figure size 432x288 with 2 Axes>"
            ],
            "image/png": "[encoded data removed]"
          },
          "metadata": {
            "needs_background": "light"
          }
        }
      ]
    },
    {
      "cell_type": "code",
      "source": [
        "from sklearn.preprocessing import StandardScaler #For standardizing th e data\n",
        "scaled_data = StandardScaler().fit_transform(data) #Fitting and transforming the data by standard scaler\n",
        "scaled_data #The data obtained after scaling"
      ],
      "metadata": {
        "colab": {
          "base_uri": "https://localhost:8080/"
        },
        "id": "coVVTgfgBXXb",
        "outputId": "c0f5a79e-597d-447f-f4eb-a309e53a1f51"
      },
      "execution_count": 35,
      "outputs": [
        {
          "output_type": "execute_result",
          "data": {
            "text/plain": [
              "array([[-0.89353091,  0.21422802,  0.66042339, ..., -0.1801732 ,\n",
              "         0.26302041,  0.75031082],\n",
              "       [-0.04301419, -0.15508087, -0.10846747, ..., -0.08927182,\n",
              "        -0.26849909, -0.33491828],\n",
              "       [ 0.40630971, -0.16271138, -0.63691522, ...,  0.82338803,\n",
              "        -0.88452044,  0.77101109],\n",
              "       ...,\n",
              "       [ 0.71887615, -0.38479911, -0.72678584, ...,  0.61512483,\n",
              "        -0.8902921 , -0.04960267],\n",
              "       [ 0.75213495, -0.80302959, -0.49813955, ...,  0.14103532,\n",
              "        -0.75695819, -0.40477201],\n",
              "       [ 1.01639752, -0.90700998, -0.61371353, ...,  0.04316081,\n",
              "        -0.75400694, -0.52745531]])"
            ]
          },
          "metadata": {},
          "execution_count": 35
        }
      ]
    },
    {
      "cell_type": "code",
      "source": [
        "scaled_data = pd.DataFrame(scaled_data,columns = data.columns.values)\n",
        "#COnverting the data into dataframe"
      ],
      "metadata": {
        "id": "UmixQf-vg-iH"
      },
      "execution_count": 36,
      "outputs": []
    },
    {
      "cell_type": "code",
      "source": [
        "scaled_data #New standardized dataframe"
      ],
      "metadata": {
        "colab": {
          "base_uri": "https://localhost:8080/",
          "height": 423
        },
        "id": "GSYb7M8UhI3T",
        "outputId": "e0dd2aaa-1838-4f88-8adc-daa4b6602ecd"
      },
      "execution_count": 37,
      "outputs": [
        {
          "output_type": "execute_result",
          "data": {
            "text/plain": [
              "           x1        x2        x3        x4        x5        x6        x7\n",
              "0   -0.893531  0.214228  0.660423 -0.935894 -0.180173  0.263020  0.750311\n",
              "1   -0.043014 -0.155081 -0.108467  0.005283 -0.089272 -0.268499 -0.334918\n",
              "2    0.406310 -0.162711 -0.636915 -0.093875  0.823388 -0.884520  0.771011\n",
              "3   -1.543484  0.032201  1.919837 -2.039160 -0.926059  1.924996  1.692138\n",
              "4    0.471557  0.100418 -0.614413  0.838262  0.297131 -0.664890 -0.762999\n",
              "..        ...       ...       ...       ...       ...       ...       ...\n",
              "185 -0.807654 -0.570860  1.207451 -0.686765 -1.256448  1.194522 -0.500716\n",
              "186 -0.755195 -0.282037  0.869675 -0.593882 -0.920429  0.904699 -0.437642\n",
              "187  0.718876 -0.384799 -0.726786  0.445573  0.615125 -0.890292 -0.049603\n",
              "188  0.752135 -0.803030 -0.498140  0.281049  0.141035 -0.756958 -0.404772\n",
              "189  1.016398 -0.907010 -0.613714  0.493546  0.043161 -0.754007 -0.527455\n",
              "\n",
              "[190 rows x 7 columns]"
            ],
            "text/html": [
              "\n",
              "  <div id=\"df-8d299dc2-f9fc-4aea-8808-47d751a13e99\">\n",
              "    <div class=\"colab-df-container\">\n",
              "      <div>\n",
              "<style scoped>\n",
              "    .dataframe tbody tr th:only-of-type {\n",
              "        vertical-align: middle;\n",
              "    }\n",
              "\n",
              "    .dataframe tbody tr th {\n",
              "        vertical-align: top;\n",
              "    }\n",
              "\n",
              "    .dataframe thead th {\n",
              "        text-align: right;\n",
              "    }\n",
              "</style>\n",
              "<table border=\"1\" class=\"dataframe\">\n",
              "  <thead>\n",
              "    <tr style=\"text-align: right;\">\n",
              "      <th></th>\n",
              "      <th>x1</th>\n",
              "      <th>x2</th>\n",
              "      <th>x3</th>\n",
              "      <th>x4</th>\n",
              "      <th>x5</th>\n",
              "      <th>x6</th>\n",
              "      <th>x7</th>\n",
              "    </tr>\n",
              "  </thead>\n",
              "  <tbody>\n",
              "    <tr>\n",
              "      <th>0</th>\n",
              "      <td>-0.893531</td>\n",
              "      <td>0.214228</td>\n",
              "      <td>0.660423</td>\n",
              "      <td>-0.935894</td>\n",
              "      <td>-0.180173</td>\n",
              "      <td>0.263020</td>\n",
              "      <td>0.750311</td>\n",
              "    </tr>\n",
              "    <tr>\n",
              "      <th>1</th>\n",
              "      <td>-0.043014</td>\n",
              "      <td>-0.155081</td>\n",
              "      <td>-0.108467</td>\n",
              "      <td>0.005283</td>\n",
              "      <td>-0.089272</td>\n",
              "      <td>-0.268499</td>\n",
              "      <td>-0.334918</td>\n",
              "    </tr>\n",
              "    <tr>\n",
              "      <th>2</th>\n",
              "      <td>0.406310</td>\n",
              "      <td>-0.162711</td>\n",
              "      <td>-0.636915</td>\n",
              "      <td>-0.093875</td>\n",
              "      <td>0.823388</td>\n",
              "      <td>-0.884520</td>\n",
              "      <td>0.771011</td>\n",
              "    </tr>\n",
              "    <tr>\n",
              "      <th>3</th>\n",
              "      <td>-1.543484</td>\n",
              "      <td>0.032201</td>\n",
              "      <td>1.919837</td>\n",
              "      <td>-2.039160</td>\n",
              "      <td>-0.926059</td>\n",
              "      <td>1.924996</td>\n",
              "      <td>1.692138</td>\n",
              "    </tr>\n",
              "    <tr>\n",
              "      <th>4</th>\n",
              "      <td>0.471557</td>\n",
              "      <td>0.100418</td>\n",
              "      <td>-0.614413</td>\n",
              "      <td>0.838262</td>\n",
              "      <td>0.297131</td>\n",
              "      <td>-0.664890</td>\n",
              "      <td>-0.762999</td>\n",
              "    </tr>\n",
              "    <tr>\n",
              "      <th>...</th>\n",
              "      <td>...</td>\n",
              "      <td>...</td>\n",
              "      <td>...</td>\n",
              "      <td>...</td>\n",
              "      <td>...</td>\n",
              "      <td>...</td>\n",
              "      <td>...</td>\n",
              "    </tr>\n",
              "    <tr>\n",
              "      <th>185</th>\n",
              "      <td>-0.807654</td>\n",
              "      <td>-0.570860</td>\n",
              "      <td>1.207451</td>\n",
              "      <td>-0.686765</td>\n",
              "      <td>-1.256448</td>\n",
              "      <td>1.194522</td>\n",
              "      <td>-0.500716</td>\n",
              "    </tr>\n",
              "    <tr>\n",
              "      <th>186</th>\n",
              "      <td>-0.755195</td>\n",
              "      <td>-0.282037</td>\n",
              "      <td>0.869675</td>\n",
              "      <td>-0.593882</td>\n",
              "      <td>-0.920429</td>\n",
              "      <td>0.904699</td>\n",
              "      <td>-0.437642</td>\n",
              "    </tr>\n",
              "    <tr>\n",
              "      <th>187</th>\n",
              "      <td>0.718876</td>\n",
              "      <td>-0.384799</td>\n",
              "      <td>-0.726786</td>\n",
              "      <td>0.445573</td>\n",
              "      <td>0.615125</td>\n",
              "      <td>-0.890292</td>\n",
              "      <td>-0.049603</td>\n",
              "    </tr>\n",
              "    <tr>\n",
              "      <th>188</th>\n",
              "      <td>0.752135</td>\n",
              "      <td>-0.803030</td>\n",
              "      <td>-0.498140</td>\n",
              "      <td>0.281049</td>\n",
              "      <td>0.141035</td>\n",
              "      <td>-0.756958</td>\n",
              "      <td>-0.404772</td>\n",
              "    </tr>\n",
              "    <tr>\n",
              "      <th>189</th>\n",
              "      <td>1.016398</td>\n",
              "      <td>-0.907010</td>\n",
              "      <td>-0.613714</td>\n",
              "      <td>0.493546</td>\n",
              "      <td>0.043161</td>\n",
              "      <td>-0.754007</td>\n",
              "      <td>-0.527455</td>\n",
              "    </tr>\n",
              "  </tbody>\n",
              "</table>\n",
              "<p>190 rows × 7 columns</p>\n",
              "</div>\n",
              "      <button class=\"colab-df-convert\" onclick=\"convertToInteractive('df-8d299dc2-f9fc-4aea-8808-47d751a13e99')\"\n",
              "              title=\"Convert this dataframe to an interactive table.\"\n",
              "              style=\"display:none;\">\n",
              "        \n",
              "  <svg xmlns=\"http://www.w3.org/2000/svg\" height=\"24px\"viewBox=\"0 0 24 24\"\n",
              "       width=\"24px\">\n",
              "    <path d=\"M0 0h24v24H0V0z\" fill=\"none\"/>\n",
              "    <path d=\"M18.56 5.44l.94 2.06.94-2.06 2.06-.94-2.06-.94-.94-2.06-.94 2.06-2.06.94zm-11 1L8.5 8.5l.94-2.06 2.06-.94-2.06-.94L8.5 2.5l-.94 2.06-2.06.94zm10 10l.94 2.06.94-2.06 2.06-.94-2.06-.94-.94-2.06-.94 2.06-2.06.94z\"/><path d=\"M17.41 7.96l-1.37-1.37c-.4-.4-.92-.59-1.43-.59-.52 0-1.04.2-1.43.59L10.3 9.45l-7.72 7.72c-.78.78-.78 2.05 0 2.83L4 21.41c.39.39.9.59 1.41.59.51 0 1.02-.2 1.41-.59l7.78-7.78 2.81-2.81c.8-.78.8-2.07 0-2.86zM5.41 20L4 18.59l7.72-7.72 1.47 1.35L5.41 20z\"/>\n",
              "  </svg>\n",
              "      </button>\n",
              "      \n",
              "  <style>\n",
              "    .colab-df-container {\n",
              "      display:flex;\n",
              "      flex-wrap:wrap;\n",
              "      gap: 12px;\n",
              "    }\n",
              "\n",
              "    .colab-df-convert {\n",
              "      background-color: #E8F0FE;\n",
              "      border: none;\n",
              "      border-radius: 50%;\n",
              "      cursor: pointer;\n",
              "      display: none;\n",
              "      fill: #1967D2;\n",
              "      height: 32px;\n",
              "      padding: 0 0 0 0;\n",
              "      width: 32px;\n",
              "    }\n",
              "\n",
              "    .colab-df-convert:hover {\n",
              "      background-color: #E2EBFA;\n",
              "      box-shadow: 0px 1px 2px rgba(60, 64, 67, 0.3), 0px 1px 3px 1px rgba(60, 64, 67, 0.15);\n",
              "      fill: #174EA6;\n",
              "    }\n",
              "\n",
              "    [theme=dark] .colab-df-convert {\n",
              "      background-color: #3B4455;\n",
              "      fill: #D2E3FC;\n",
              "    }\n",
              "\n",
              "    [theme=dark] .colab-df-convert:hover {\n",
              "      background-color: #434B5C;\n",
              "      box-shadow: 0px 1px 3px 1px rgba(0, 0, 0, 0.15);\n",
              "      filter: drop-shadow(0px 1px 2px rgba(0, 0, 0, 0.3));\n",
              "      fill: #FFFFFF;\n",
              "    }\n",
              "  </style>\n",
              "\n",
              "      <script>\n",
              "        const buttonEl =\n",
              "          document.querySelector('#df-8d299dc2-f9fc-4aea-8808-47d751a13e99 button.colab-df-convert');\n",
              "        buttonEl.style.display =\n",
              "          google.colab.kernel.accessAllowed ? 'block' : 'none';\n",
              "\n",
              "        async function convertToInteractive(key) {\n",
              "          const element = document.querySelector('#df-8d299dc2-f9fc-4aea-8808-47d751a13e99');\n",
              "          const dataTable =\n",
              "            await google.colab.kernel.invokeFunction('convertToInteractive',\n",
              "                                                     [key], {});\n",
              "          if (!dataTable) return;\n",
              "\n",
              "          const docLinkHtml = 'Like what you see? Visit the ' +\n",
              "            '<a target=\"_blank\" href=https://colab.research.google.com/notebooks/data_table.ipynb>data table notebook</a>'\n",
              "            + ' to learn more about interactive tables.';\n",
              "          element.innerHTML = '';\n",
              "          dataTable['output_type'] = 'display_data';\n",
              "          await google.colab.output.renderOutput(dataTable, element);\n",
              "          const docLink = document.createElement('div');\n",
              "          docLink.innerHTML = docLinkHtml;\n",
              "          element.appendChild(docLink);\n",
              "        }\n",
              "      </script>\n",
              "    </div>\n",
              "  </div>\n",
              "  "
            ]
          },
          "metadata": {},
          "execution_count": 37
        }
      ]
    },
    {
      "cell_type": "markdown",
      "source": [
        "#b."
      ],
      "metadata": {
        "id": "KGgLkr0PBI1C"
      }
    },
    {
      "cell_type": "code",
      "source": [
        "from sklearn.decomposition import KernelPCA as KPCA #For Applying Kernel pca technique\n",
        "KPCA_transformer = KPCA( kernel='rbf') #Defining the KPCA transformer\n",
        "data_transformed = KPCA_transformer.fit_transform(scaled_data) #Fitting the standardized data into KPCA transformer\n",
        "data_transformed.shape"
      ],
      "metadata": {
        "colab": {
          "base_uri": "https://localhost:8080/"
        },
        "id": "ttT_ouokA2VN",
        "outputId": "dab2e92c-4541-45da-9d26-fbc2b1eb3efa"
      },
      "execution_count": 38,
      "outputs": [
        {
          "output_type": "execute_result",
          "data": {
            "text/plain": [
              "(190, 189)"
            ]
          },
          "metadata": {},
          "execution_count": 38
        }
      ]
    },
    {
      "cell_type": "code",
      "source": [
        "var_explained = np.var(data_transformed,axis=0) #Accessing the variance explained for the transformed data"
      ],
      "metadata": {
        "id": "rCQFsB6z4w27"
      },
      "execution_count": 39,
      "outputs": []
    },
    {
      "cell_type": "markdown",
      "source": [
        "#c."
      ],
      "metadata": {
        "id": "hjlpkcn37P7M"
      }
    },
    {
      "cell_type": "code",
      "source": [
        "Var_Explained = [] #Empty list for storing variance explained\n",
        "Components = [] #For storing corresponding number of components\n",
        "for i in range(1,11): # We have to plot upto 10 dimensions\n",
        "  KPCA_transformer = KPCA(n_components = i, kernel='rbf') #Defining the KPCA_transformer for each number of components\n",
        "  data_transformed = KPCA_transformer.fit_transform(scaled_data) # Fitting and transforming the data into the above function\n",
        "  var_explained = np.var(data_transformed) # For calling the variance explained\n",
        "  Var_Explained.append(var_explained) #Appending the variance explained into the list\n",
        "  Components.append(i) #For appending corresponding number of components into list"
      ],
      "metadata": {
        "id": "MDNboXT_5GkU"
      },
      "execution_count": 40,
      "outputs": []
    },
    {
      "cell_type": "code",
      "source": [
        "Var_Explained #List of variance explained"
      ],
      "metadata": {
        "colab": {
          "base_uri": "https://localhost:8080/"
        },
        "id": "qilyMnUW6sKZ",
        "outputId": "1e703782-ea5b-4d5c-ceca-78dff13aa019"
      },
      "execution_count": 41,
      "outputs": [
        {
          "output_type": "execute_result",
          "data": {
            "text/plain": [
              "[0.14807904143184933,\n",
              " 0.12719557629552075,\n",
              " 0.11798886882083892,\n",
              " 0.09994118729980996,\n",
              " 0.08848958312694585,\n",
              " 0.0794557276611504,\n",
              " 0.07226653450229416,\n",
              " 0.06579115972466189,\n",
              " 0.06032510754015689,\n",
              " 0.05572705608481074]"
            ]
          },
          "metadata": {},
          "execution_count": 41
        }
      ]
    },
    {
      "cell_type": "code",
      "source": [
        "import matplotlib.pyplot as plt\n",
        "plt.plot(Components,Var_Explained,'bx-') #Plotting the variance explaijned vs no. of components plot\n",
        "plt.show() # Showing the plot"
      ],
      "metadata": {
        "colab": {
          "base_uri": "https://localhost:8080/",
          "height": 265
        },
        "id": "X1s5FNWj6vDm",
        "outputId": "c2fc059e-aac0-45fb-d92e-ae2797250f79"
      },
      "execution_count": 42,
      "outputs": [
        {
          "output_type": "display_data",
          "data": {
            "text/plain": [
              "<Figure size 432x288 with 1 Axes>"
            ],
            "image/png": "[encoded data removed]"
          },
          "metadata": {
            "needs_background": "light"
          }
        }
      ]
    },
    {
      "cell_type": "code",
      "source": [
        ""
      ],
      "metadata": {
        "id": "neQhlpRV7J4s"
      },
      "execution_count": 42,
      "outputs": []
    },
    {
      "cell_type": "markdown",
      "source": [
        "Discussed with:\n",
        "Rupesh Yadav(21i190004)\n",
        "\n",
        "\n",
        "Abhishek Gupta(21i190005)"
      ],
      "metadata": {
        "id": "C6MRr7WwxEUY"
      }
    },
    {
      "cell_type": "markdown",
      "source": [
        "References:\n",
        "https://scikit-learn.org/stable/modules/generated/sklearn.decomposition.KernelPCA.html\n",
        "\n",
        "https://www.researchgate.net/figure/The-cumulative-explained-variance-of-PCA-SVD-and-KPCA-techniques-a-and-b_fig6_340160854\n",
        "\n"
      ],
      "metadata": {
        "id": "1_o2f-kkxNwI"
      }
    }
  ]
}